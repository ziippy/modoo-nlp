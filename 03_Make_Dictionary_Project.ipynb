{
 "cells": [
  {
   "cell_type": "markdown",
   "id": "a65def64-9002-404b-9ca0-f8ce732c910d",
   "metadata": {},
   "source": [
    "## 멋진 단어사진 만들기 (프로젝트)"
   ]
  },
  {
   "cell_type": "markdown",
   "id": "6bf80e07-f3ea-46c3-b920-47ac53d226c1",
   "metadata": {},
   "source": [
    "SentencePiece 사용하기"
   ]
  },
  {
   "cell_type": "markdown",
   "id": "604b24df-d83c-467f-933b-755b20be9dca",
   "metadata": {},
   "source": [
    "### 라이브러리 import"
   ]
  },
  {
   "cell_type": "code",
   "execution_count": 5,
   "id": "8c1acff4-79b6-41f9-aed2-fc20ceb3f55a",
   "metadata": {},
   "outputs": [],
   "source": [
    "import re\n",
    "import os\n",
    "import os.path\n",
    "import pandas as pd\n",
    "import numpy as np\n",
    "import urllib.request\n",
    "\n",
    "import tensorflow as tf\n",
    "from tensorflow import keras\n",
    "from tensorflow.keras.preprocessing.text import Tokenizer\n",
    "from tensorflow.keras.preprocessing.sequence import pad_sequences\n",
    "from tensorflow.keras.initializers import Constant\n",
    "\n",
    "from collections import Counter\n",
    "from konlpy.tag import Mecab\n",
    "import sentencepiece as spm\n",
    "\n",
    "import gensim\n",
    "from gensim.models import KeyedVectors\n",
    "from sklearn.model_selection import train_test_split\n",
    "\n",
    "from keras.layers import LSTM, GRU, Dense, Conv1D\n",
    "from keras.layers import Embedding, MaxPooling1D, GlobalMaxPooling1D\n",
    "from keras.layers import Dropout\n",
    "from keras.callbacks import EarlyStopping\n",
    "\n",
    "import seaborn as sns\n",
    "import matplotlib.pyplot as plt\n",
    "#%matplotlib inline\n",
    "\n",
    "#import warnings\n",
    "#warnings.filterwarnings(action='ignore') # (action='default')"
   ]
  },
  {
   "cell_type": "markdown",
   "id": "91aa42a5-7cf2-4f30-b5f7-350efae7cfe9",
   "metadata": {},
   "source": [
    "### Step 1. SentencePiece 설치하기\n",
    "\n",
    "https://github.com/google/sentencepiece 에서 상세 내용 확인 가능"
   ]
  },
  {
   "cell_type": "code",
   "execution_count": 2,
   "id": "b3136745-9108-49db-879f-e8c9ff640d1c",
   "metadata": {},
   "outputs": [
    {
     "name": "stdout",
     "output_type": "stream",
     "text": [
      "Collecting sentencepiece\n",
      "  Downloading sentencepiece-0.1.97-cp310-cp310-manylinux_2_17_x86_64.manylinux2014_x86_64.whl (1.3 MB)\n",
      "\u001b[2K     \u001b[90m━━━━━━━━━━━━━━━━━━━━━━━━━━━━━━━━━━━━━━━━\u001b[0m \u001b[32m1.3/1.3 MB\u001b[0m \u001b[31m14.2 MB/s\u001b[0m eta \u001b[36m0:00:00\u001b[0ma \u001b[36m0:00:01\u001b[0m\n",
      "\u001b[?25hInstalling collected packages: sentencepiece\n",
      "Successfully installed sentencepiece-0.1.97\n"
     ]
    }
   ],
   "source": [
    "!pip install sentencepiece"
   ]
  },
  {
   "cell_type": "code",
   "execution_count": 4,
   "id": "3ec94955-0a44-49c9-9a36-c61e772ef530",
   "metadata": {},
   "outputs": [
    {
     "name": "stdout",
     "output_type": "stream",
     "text": [
      "Collecting gensim\n",
      "  Downloading gensim-4.2.0-cp310-cp310-manylinux_2_17_x86_64.manylinux2014_x86_64.whl (24.0 MB)\n",
      "\u001b[2K     \u001b[90m━━━━━━━━━━━━━━━━━━━━━━━━━━━━━━━━━━━━━━━━\u001b[0m \u001b[32m24.0/24.0 MB\u001b[0m \u001b[31m57.0 MB/s\u001b[0m eta \u001b[36m0:00:00\u001b[0m00:01\u001b[0m00:01\u001b[0m\n",
      "\u001b[?25hRequirement already satisfied: numpy>=1.17.0 in /home/ubuntu/venv/lib/python3.10/site-packages (from gensim) (1.23.2)\n",
      "Requirement already satisfied: scipy>=0.18.1 in /home/ubuntu/venv/lib/python3.10/site-packages (from gensim) (1.9.0)\n",
      "Collecting smart-open>=1.8.1\n",
      "  Downloading smart_open-6.2.0-py3-none-any.whl (58 kB)\n",
      "\u001b[2K     \u001b[90m━━━━━━━━━━━━━━━━━━━━━━━━━━━━━━━━━━━━━━━━\u001b[0m \u001b[32m58.6/58.6 kB\u001b[0m \u001b[31m8.8 MB/s\u001b[0m eta \u001b[36m0:00:00\u001b[0m\n",
      "\u001b[?25hInstalling collected packages: smart-open, gensim\n",
      "Successfully installed gensim-4.2.0 smart-open-6.2.0\n"
     ]
    }
   ],
   "source": [
    "!pip install gensim"
   ]
  },
  {
   "cell_type": "markdown",
   "id": "4f5fdde0-4d79-482a-8e7d-0a43e42b8c2e",
   "metadata": {},
   "source": [
    "### Step 2. SentencePiece 모델 학습"
   ]
  },
  {
   "cell_type": "markdown",
   "id": "61959207-f2c2-4247-b0df-c270d6867bea",
   "metadata": {},
   "source": [
    "앞서 배운 tokenize() 함수를 다시 상기\n",
    "\n",
    "```\n",
    "def tokenize(corpus):  # corpus: Tokenized Sentence's List\n",
    "    tokenizer = tf.keras.preprocessing.text.Tokenizer(filters='')\n",
    "    tokenizer.fit_on_texts(corpus)\n",
    "\n",
    "    tensor = tokenizer.texts_to_sequences(corpus)\n",
    "\n",
    "    tensor = tf.keras.preprocessing.sequence.pad_sequences(tensor, padding='post')\n",
    "\n",
    "    return tensor, tokenizer\n",
    "```"
   ]
  },
  {
   "cell_type": "markdown",
   "id": "10d91f01-d247-401d-b47d-e236613d0a7f",
   "metadata": {},
   "source": [
    "tf.keras.preprocessing.text.Tokenizer에 corpus를 주고 tokenizer.fit_on_texts(corpus)을 하면  \n",
    "토크나이저 내부적으로 단어사전과 토크나이저 기능을 corpus에 맞춤형으로 자동 생성해 주는 것."
   ]
  },
  {
   "cell_type": "code",
   "execution_count": 8,
   "id": "a1d5d661-7214-4b1f-9f08-5044c14ddc71",
   "metadata": {},
   "outputs": [],
   "source": [
    "import os\n",
    "path_to_file = '/mnt/disk2/modoo-nlp/sp_tokenizer/data/korean-english-park.train.ko'"
   ]
  },
  {
   "cell_type": "code",
   "execution_count": 9,
   "id": "9eaf09c7-d9b7-4088-8359-faa8d143a679",
   "metadata": {},
   "outputs": [
    {
     "name": "stdout",
     "output_type": "stream",
     "text": [
      "ready\n"
     ]
    }
   ],
   "source": [
    "with open(path_to_file, \"r\") as f:\n",
    "    raw = f.read().splitlines()\n",
    "\n",
    "cleaned_corpus = list(set(raw))\n",
    "\n",
    "print('ready')"
   ]
  },
  {
   "cell_type": "code",
   "execution_count": 10,
   "id": "27a37041-cb84-4111-b0ef-9183e75e5251",
   "metadata": {},
   "outputs": [
    {
     "name": "stdout",
     "output_type": "stream",
     "text": [
      "temp_file write done\n"
     ]
    }
   ],
   "source": [
    "max_len = 150\n",
    "min_len = 10\n",
    "\n",
    "# 길이 조건에 맞는 문장만 선택합니다.\n",
    "filtered_corpus = [s for s in cleaned_corpus if (len(s) < max_len) & (len(s) >= min_len)]\n",
    "\n",
    "import sentencepiece as spm\n",
    "import os\n",
    "temp_file = '/mnt/disk2/modoo-nlp/sp_tokenizer/data/korean-english-park.train.ko.temp'\n",
    "\n",
    "vocab_size = 8000\n",
    "\n",
    "with open(temp_file, 'w') as f:\n",
    "    for row in filtered_corpus:   # 이전 스텝에서 정제했던 corpus를 활용합니다.\n",
    "        f.write(str(row) + '\\n')\n",
    "        \n",
    "print('temp_file write done')"
   ]
  },
  {
   "cell_type": "code",
   "execution_count": 11,
   "id": "88bc328f-dd66-49a9-b1ab-29afc7e2d2a4",
   "metadata": {},
   "outputs": [
    {
     "name": "stdout",
     "output_type": "stream",
     "text": [
      "--input=/mnt/disk2/modoo-nlp/sp_tokenizer/data/korean-english-park.train.ko.temp --model_prefix=korean_spm --vocab_size=8000\n"
     ]
    }
   ],
   "source": [
    "train_str = '--input={} --model_prefix=korean_spm --vocab_size={}'.format(temp_file, vocab_size) \n",
    "print(train_str)"
   ]
  },
  {
   "cell_type": "code",
   "execution_count": 12,
   "id": "5ab42b43-1a3a-4669-9147-42060595142b",
   "metadata": {},
   "outputs": [
    {
     "name": "stdout",
     "output_type": "stream",
     "text": [
      "train done\n"
     ]
    },
    {
     "name": "stderr",
     "output_type": "stream",
     "text": [
      "sentencepiece_trainer.cc(177) LOG(INFO) Running command: --input=/mnt/disk2/modoo-nlp/sp_tokenizer/data/korean-english-park.train.ko.temp --model_prefix=korean_spm --vocab_size=8000\n",
      "sentencepiece_trainer.cc(77) LOG(INFO) Starts training with : \n",
      "trainer_spec {\n",
      "  input: /mnt/disk2/modoo-nlp/sp_tokenizer/data/korean-english-park.train.ko.temp\n",
      "  input_format: \n",
      "  model_prefix: korean_spm\n",
      "  model_type: UNIGRAM\n",
      "  vocab_size: 8000\n",
      "  self_test_sample_size: 0\n",
      "  character_coverage: 0.9995\n",
      "  input_sentence_size: 0\n",
      "  shuffle_input_sentence: 1\n",
      "  seed_sentencepiece_size: 1000000\n",
      "  shrinking_factor: 0.75\n",
      "  max_sentence_length: 4192\n",
      "  num_threads: 16\n",
      "  num_sub_iterations: 2\n",
      "  max_sentencepiece_length: 16\n",
      "  split_by_unicode_script: 1\n",
      "  split_by_number: 1\n",
      "  split_by_whitespace: 1\n",
      "  split_digits: 0\n",
      "  treat_whitespace_as_suffix: 0\n",
      "  allow_whitespace_only_pieces: 0\n",
      "  required_chars: \n",
      "  byte_fallback: 0\n",
      "  vocabulary_output_piece_score: 1\n",
      "  train_extremely_large_corpus: 0\n",
      "  hard_vocab_limit: 1\n",
      "  use_all_vocab: 0\n",
      "  unk_id: 0\n",
      "  bos_id: 1\n",
      "  eos_id: 2\n",
      "  pad_id: -1\n",
      "  unk_piece: <unk>\n",
      "  bos_piece: <s>\n",
      "  eos_piece: </s>\n",
      "  pad_piece: <pad>\n",
      "  unk_surface:  ⁇ \n",
      "  enable_differential_privacy: 0\n",
      "  differential_privacy_noise_level: 0\n",
      "  differential_privacy_clipping_threshold: 0\n",
      "}\n",
      "normalizer_spec {\n",
      "  name: nmt_nfkc\n",
      "  add_dummy_prefix: 1\n",
      "  remove_extra_whitespaces: 1\n",
      "  escape_whitespaces: 1\n",
      "  normalization_rule_tsv: \n",
      "}\n",
      "denormalizer_spec {}\n",
      "trainer_interface.cc(350) LOG(INFO) SentenceIterator is not specified. Using MultiFileSentenceIterator.\n",
      "trainer_interface.cc(181) LOG(INFO) Loading corpus: /mnt/disk2/modoo-nlp/sp_tokenizer/data/korean-english-park.train.ko.temp\n",
      "trainer_interface.cc(406) LOG(INFO) Loaded all 76908 sentences\n",
      "trainer_interface.cc(422) LOG(INFO) Adding meta_piece: <unk>\n",
      "trainer_interface.cc(422) LOG(INFO) Adding meta_piece: <s>\n",
      "trainer_interface.cc(422) LOG(INFO) Adding meta_piece: </s>\n",
      "trainer_interface.cc(427) LOG(INFO) Normalizing sentences...\n",
      "trainer_interface.cc(536) LOG(INFO) all chars count=4996369\n",
      "trainer_interface.cc(547) LOG(INFO) Done: 99.95% characters are covered.\n",
      "trainer_interface.cc(557) LOG(INFO) Alphabet size=1317\n",
      "trainer_interface.cc(558) LOG(INFO) Final character coverage=0.9995\n",
      "trainer_interface.cc(590) LOG(INFO) Done! preprocessed 76908 sentences.\n",
      "unigram_model_trainer.cc(146) LOG(INFO) Making suffix array...\n",
      "unigram_model_trainer.cc(150) LOG(INFO) Extracting frequent sub strings...\n",
      "unigram_model_trainer.cc(201) LOG(INFO) Initialized 174450 seed sentencepieces\n",
      "trainer_interface.cc(596) LOG(INFO) Tokenizing input sentences with whitespace: 76908\n",
      "trainer_interface.cc(607) LOG(INFO) Done! 237965\n",
      "unigram_model_trainer.cc(491) LOG(INFO) Using 237965 sentences for EM training\n",
      "unigram_model_trainer.cc(507) LOG(INFO) EM sub_iter=0 size=92596 obj=14.8523 num_tokens=523217 num_tokens/piece=5.65054\n",
      "unigram_model_trainer.cc(507) LOG(INFO) EM sub_iter=1 size=82107 obj=13.5152 num_tokens=525723 num_tokens/piece=6.4029\n",
      "unigram_model_trainer.cc(507) LOG(INFO) EM sub_iter=0 size=61572 obj=13.5525 num_tokens=546851 num_tokens/piece=8.88149\n",
      "unigram_model_trainer.cc(507) LOG(INFO) EM sub_iter=1 size=61523 obj=13.5093 num_tokens=547294 num_tokens/piece=8.89576\n",
      "unigram_model_trainer.cc(507) LOG(INFO) EM sub_iter=0 size=46139 obj=13.6919 num_tokens=575331 num_tokens/piece=12.4695\n",
      "unigram_model_trainer.cc(507) LOG(INFO) EM sub_iter=1 size=46139 obj=13.6486 num_tokens=575427 num_tokens/piece=12.4716\n",
      "unigram_model_trainer.cc(507) LOG(INFO) EM sub_iter=0 size=34604 obj=13.8889 num_tokens=605981 num_tokens/piece=17.5119\n",
      "unigram_model_trainer.cc(507) LOG(INFO) EM sub_iter=1 size=34604 obj=13.8381 num_tokens=605979 num_tokens/piece=17.5118\n",
      "unigram_model_trainer.cc(507) LOG(INFO) EM sub_iter=0 size=25953 obj=14.1296 num_tokens=637507 num_tokens/piece=24.5639\n",
      "unigram_model_trainer.cc(507) LOG(INFO) EM sub_iter=1 size=25953 obj=14.0742 num_tokens=637543 num_tokens/piece=24.5653\n",
      "unigram_model_trainer.cc(507) LOG(INFO) EM sub_iter=0 size=19464 obj=14.4087 num_tokens=670921 num_tokens/piece=34.4698\n",
      "unigram_model_trainer.cc(507) LOG(INFO) EM sub_iter=1 size=19464 obj=14.3464 num_tokens=670959 num_tokens/piece=34.4718\n",
      "unigram_model_trainer.cc(507) LOG(INFO) EM sub_iter=0 size=14598 obj=14.719 num_tokens=705552 num_tokens/piece=48.3321\n",
      "unigram_model_trainer.cc(507) LOG(INFO) EM sub_iter=1 size=14598 obj=14.6474 num_tokens=705562 num_tokens/piece=48.3328\n",
      "unigram_model_trainer.cc(507) LOG(INFO) EM sub_iter=0 size=10948 obj=15.0872 num_tokens=741544 num_tokens/piece=67.7333\n",
      "unigram_model_trainer.cc(507) LOG(INFO) EM sub_iter=1 size=10948 obj=15.0066 num_tokens=741547 num_tokens/piece=67.7336\n",
      "unigram_model_trainer.cc(507) LOG(INFO) EM sub_iter=0 size=8800 obj=15.3759 num_tokens=769382 num_tokens/piece=87.4298\n",
      "unigram_model_trainer.cc(507) LOG(INFO) EM sub_iter=1 size=8800 obj=15.307 num_tokens=769386 num_tokens/piece=87.4302\n",
      "trainer_interface.cc(685) LOG(INFO) Saving model: korean_spm.model\n",
      "trainer_interface.cc(697) LOG(INFO) Saving vocabs: korean_spm.vocab\n"
     ]
    }
   ],
   "source": [
    "spm.SentencePieceTrainer.Train(train_str)\n",
    "#위 Train에서  --model_type = 'unigram'이 디폴트 적용되어 있습니다. --model_type = 'bpe' 로 옵션을 주어 변경할 수 있습니다.\n",
    "\n",
    "print('train done')"
   ]
  },
  {
   "cell_type": "code",
   "execution_count": 13,
   "id": "f0bd9979-4e30-4415-b942-5d60c8a89ac9",
   "metadata": {},
   "outputs": [
    {
     "name": "stdout",
     "output_type": "stream",
     "text": [
      "-rw-rw-r-- 1 ubuntu ubuntu 376828 Oct 19 08:26 korean_spm.model\n",
      "-rw-rw-r-- 1 ubuntu ubuntu 146218 Oct 19 08:26 korean_spm.vocab\n"
     ]
    }
   ],
   "source": [
    "!ls -l korean_spm*"
   ]
  },
  {
   "cell_type": "markdown",
   "id": "2140ae05-6a08-42a0-9407-ac2dce0ae87e",
   "metadata": {},
   "source": [
    "위 코드를 실행하면 정상적으로 SentencePiece 모델 학습이 완료된 후 korean_spm.model 파일과 korean_spm.vocab vocabulary 파일이 생성되었음을 확인할 수 있다."
   ]
  },
  {
   "cell_type": "markdown",
   "id": "ea56e726-47d4-46fd-830b-6b2e3dac2a6c",
   "metadata": {},
   "source": [
    "#### SentencePiece 모델을 어떻게 활용?"
   ]
  },
  {
   "cell_type": "code",
   "execution_count": 14,
   "id": "278e5f38-ddd3-4f63-a340-28d59ee67038",
   "metadata": {},
   "outputs": [
    {
     "name": "stdout",
     "output_type": "stream",
     "text": [
      "[1243, 11, 302, 7, 3608, 11, 287, 38, 3]\n",
      "['▁아버지', '가', '방', '에', '들', '어', '가', '신', '다', '.']\n",
      "아버지가방에들어가신다.\n"
     ]
    }
   ],
   "source": [
    "s = spm.SentencePieceProcessor()\n",
    "s.Load('korean_spm.model')\n",
    "\n",
    "# SentencePiece를 활용한 sentence -> encoding\n",
    "tokensIDs = s.EncodeAsIds('아버지가방에들어가신다.')\n",
    "print(tokensIDs)\n",
    "\n",
    "# SentencePiece를 활용한 sentence -> encoded pieces\n",
    "print(s.SampleEncodeAsPieces('아버지가방에들어가신다.', 2, 0.0))\n",
    "\n",
    "# SentencePiece를 활용한 encoding -> sentence 복원\n",
    "print(s.DecodeIds(tokensIDs))"
   ]
  },
  {
   "cell_type": "markdown",
   "id": "4dba68b8-a387-4764-aac5-623f94bccd1d",
   "metadata": {},
   "source": [
    "SentencePiece의 토크나이징 실력이 괜찮은 것 같다."
   ]
  },
  {
   "cell_type": "markdown",
   "id": "35915815-52a1-4dc4-99b1-136e7273ec1a",
   "metadata": {},
   "source": [
    "### Step 3. Tokenizer 함수 작성"
   ]
  },
  {
   "cell_type": "markdown",
   "id": "71bc6433-33bf-42b6-ab43-fe3aca390831",
   "metadata": {},
   "source": [
    "우리는 위에서 훈련시킨 SentencePiece를 활용하여 위 함수와 유사한 기능을 하는 sp_tokenize() 함수를 정의할 것이다.\n",
    "\n",
    "하지만 SentencePiece가 동작하는 방식이 단순 토큰화와는 달라 완전히 동일하게는 정의하기 어렵다.\n",
    "\n",
    "그러니 아래 조건을 만족하는 함수를 정의하도록 하겠다.\n",
    "- 매개변수로 토큰화된 문장의 list를 전달하는 대신 온전한 문장의 list 를 전달\n",
    "- 생성된 vocab 파일을 읽어와 { <word> : <idx> } 형태를 가지는 word_index 사전과 { <idx> : <word>} 형태를 가지는 index_word 사전을 생성하고 함께 반환\n",
    "- 리턴값인 tensor 는 앞의 함수와 동일하게 토큰화한 후 Encoding된 문장임. 바로 학습에 사용할 수 있게 Padding은 당연히 해야겠죠?"
   ]
  },
  {
   "cell_type": "code",
   "execution_count": 15,
   "id": "4956c753-c1f7-44f2-92c3-bf14b988a944",
   "metadata": {},
   "outputs": [],
   "source": [
    "def sp_tokenize(s, corpus):\n",
    "\n",
    "    tensor = []\n",
    "\n",
    "    for sen in corpus:\n",
    "        tensor.append(s.EncodeAsIds(sen))\n",
    "\n",
    "    with open(\"./korean_spm.vocab\", 'r') as f:\n",
    "        vocab = f.readlines()\n",
    "\n",
    "    word_index = {}\n",
    "    index_word = {}\n",
    "\n",
    "    for idx, line in enumerate(vocab):\n",
    "        word = line.split(\"\\t\")[0]\n",
    "\n",
    "        word_index.update({idx:word})\n",
    "        index_word.update({word:idx})\n",
    "\n",
    "    tensor = tf.keras.preprocessing.sequence.pad_sequences(tensor, padding='post')\n",
    "\n",
    "    return tensor, word_index, index_word"
   ]
  },
  {
   "cell_type": "code",
   "execution_count": 16,
   "id": "b5206c36-e674-46bd-9776-1a0ef3c63c05",
   "metadata": {},
   "outputs": [
    {
     "name": "stdout",
     "output_type": "stream",
     "text": [
      "[[1954 5665    5    4 7975 1988    3    0    0    0    0    0    0    0]\n",
      " [ 107 1642  101    4    0  417   11    4   14    0 1974    3    3    3]]\n"
     ]
    }
   ],
   "source": [
    "#sp_tokenize(s, corpus) 사용예제\n",
    "\n",
    "my_corpus = ['나는 밥을 먹었습니다.', '그러나 여전히 ㅠㅠ 배가 고픕니다...']\n",
    "tensor, word_index, index_word = sp_tokenize(s, my_corpus)\n",
    "print(tensor)"
   ]
  },
  {
   "cell_type": "markdown",
   "id": "2e8af3cd-3d29-4965-a3c8-c8b3f572eb8a",
   "metadata": {},
   "source": [
    "### Step 4. 네이버 영화리뷰 감정 분석 문제에 SentencePiece 적용해보기"
   ]
  },
  {
   "cell_type": "markdown",
   "id": "c3d8e768-ac51-4873-85b5-35bb54a7b304",
   "metadata": {},
   "source": [
    "네이버 영화리뷰 감정 분석 태스크: https://github.com/e9t/nsmc/\n",
    "\n",
    "한국어로 된 corpus를 다루어야 하므로 주로 KoNLPy에서 제공하는 형태소 분석기를 사용하여 텍스트를 전처리해서 RNN 모델을 분류기로 사용하게 된다.\n",
    "\n",
    "만약, 이 문제에서 tokenizer 를 sentencepiece 로 바꾸어 다시 풀어본다면 성능이 좋아질까?\n",
    "\n",
    "KoNLPy 에 있는 Mecab, kkma, Okt 등과 비교해보자."
   ]
  },
  {
   "cell_type": "markdown",
   "id": "13bdf07e-0696-4610-a152-9ad608c02b6d",
   "metadata": {},
   "source": [
    "방법\n",
    "- 네이버 영화리뷰 감정 분석 코퍼스에 SentencePiece를 적용시킨 모델 학습하기\n",
    "- 학습된 모델로 sp_tokenize() 메소드 구현하기\n",
    "- 구현된 토크나이저를 적용하여 네이버 영화리뷰 감정 분석 모델을 재학습하기\n",
    "- KoNLPy 형태소 분석기를 사용한 모델과 성능 비교하기\n",
    "- SentencePiece 모델의 model_type, vocab_size 등을 변경해 가면서 성능 개선 여부 확인하기"
   ]
  },
  {
   "cell_type": "markdown",
   "id": "f786e7df-ab57-43ae-b7c0-422aa943a7e9",
   "metadata": {},
   "source": [
    "#### 1. 네이버 영화리뷰 감정 분석 코퍼스에 SentencePiece를 적용시킨 모델 학습하기"
   ]
  },
  {
   "cell_type": "code",
   "execution_count": 17,
   "id": "231e6dfe-3dbe-4259-8021-db99eb70d18f",
   "metadata": {},
   "outputs": [
    {
     "name": "stdout",
     "output_type": "stream",
     "text": [
      "--2022-10-19 08:26:46--  https://raw.githubusercontent.com/e9t/nsmc/master/ratings_train.txt\n",
      "Resolving raw.githubusercontent.com (raw.githubusercontent.com)... 185.199.110.133, 185.199.111.133, 185.199.109.133, ...\n",
      "Connecting to raw.githubusercontent.com (raw.githubusercontent.com)|185.199.110.133|:443... connected.\n",
      "HTTP request sent, awaiting response... 200 OK\n",
      "Length: 14628807 (14M) [text/plain]\n",
      "Saving to: ‘ratings_train.txt’\n",
      "\n",
      "ratings_train.txt   100%[===================>]  13.95M  --.-KB/s    in 0.06s   \n",
      "\n",
      "2022-10-19 08:26:48 (241 MB/s) - ‘ratings_train.txt’ saved [14628807/14628807]\n",
      "\n"
     ]
    }
   ],
   "source": [
    "!wget https://raw.githubusercontent.com/e9t/nsmc/master/ratings_train.txt"
   ]
  },
  {
   "cell_type": "code",
   "execution_count": 18,
   "id": "0ae2b036-8864-4acb-a199-2e91ea4fbd4e",
   "metadata": {},
   "outputs": [
    {
     "name": "stdout",
     "output_type": "stream",
     "text": [
      "--2022-10-19 08:26:48--  https://raw.githubusercontent.com/e9t/nsmc/master/ratings_test.txt\n",
      "Resolving raw.githubusercontent.com (raw.githubusercontent.com)... 185.199.110.133, 185.199.108.133, 185.199.109.133, ...\n",
      "Connecting to raw.githubusercontent.com (raw.githubusercontent.com)|185.199.110.133|:443... connected.\n",
      "HTTP request sent, awaiting response... 200 OK\n",
      "Length: 4893335 (4.7M) [text/plain]\n",
      "Saving to: ‘ratings_test.txt’\n",
      "\n",
      "ratings_test.txt    100%[===================>]   4.67M  --.-KB/s    in 0.03s   \n",
      "\n",
      "2022-10-19 08:26:49 (150 MB/s) - ‘ratings_test.txt’ saved [4893335/4893335]\n",
      "\n"
     ]
    }
   ],
   "source": [
    "!wget https://raw.githubusercontent.com/e9t/nsmc/master/ratings_test.txt"
   ]
  },
  {
   "cell_type": "code",
   "execution_count": 19,
   "id": "7b527b5e-1aae-4812-8094-cc6bf5559a8b",
   "metadata": {},
   "outputs": [
    {
     "data": {
      "text/html": [
       "<div>\n",
       "<style scoped>\n",
       "    .dataframe tbody tr th:only-of-type {\n",
       "        vertical-align: middle;\n",
       "    }\n",
       "\n",
       "    .dataframe tbody tr th {\n",
       "        vertical-align: top;\n",
       "    }\n",
       "\n",
       "    .dataframe thead th {\n",
       "        text-align: right;\n",
       "    }\n",
       "</style>\n",
       "<table border=\"1\" class=\"dataframe\">\n",
       "  <thead>\n",
       "    <tr style=\"text-align: right;\">\n",
       "      <th></th>\n",
       "      <th>id</th>\n",
       "      <th>document</th>\n",
       "      <th>label</th>\n",
       "    </tr>\n",
       "  </thead>\n",
       "  <tbody>\n",
       "    <tr>\n",
       "      <th>0</th>\n",
       "      <td>9976970</td>\n",
       "      <td>아 더빙.. 진짜 짜증나네요 목소리</td>\n",
       "      <td>0</td>\n",
       "    </tr>\n",
       "    <tr>\n",
       "      <th>1</th>\n",
       "      <td>3819312</td>\n",
       "      <td>흠...포스터보고 초딩영화줄....오버연기조차 가볍지 않구나</td>\n",
       "      <td>1</td>\n",
       "    </tr>\n",
       "    <tr>\n",
       "      <th>2</th>\n",
       "      <td>10265843</td>\n",
       "      <td>너무재밓었다그래서보는것을추천한다</td>\n",
       "      <td>0</td>\n",
       "    </tr>\n",
       "    <tr>\n",
       "      <th>3</th>\n",
       "      <td>9045019</td>\n",
       "      <td>교도소 이야기구먼 ..솔직히 재미는 없다..평점 조정</td>\n",
       "      <td>0</td>\n",
       "    </tr>\n",
       "    <tr>\n",
       "      <th>4</th>\n",
       "      <td>6483659</td>\n",
       "      <td>사이몬페그의 익살스런 연기가 돋보였던 영화!스파이더맨에서 늙어보이기만 했던 커스틴 ...</td>\n",
       "      <td>1</td>\n",
       "    </tr>\n",
       "  </tbody>\n",
       "</table>\n",
       "</div>"
      ],
      "text/plain": [
       "         id                                           document  label\n",
       "0   9976970                                아 더빙.. 진짜 짜증나네요 목소리      0\n",
       "1   3819312                  흠...포스터보고 초딩영화줄....오버연기조차 가볍지 않구나      1\n",
       "2  10265843                                  너무재밓었다그래서보는것을추천한다      0\n",
       "3   9045019                      교도소 이야기구먼 ..솔직히 재미는 없다..평점 조정      0\n",
       "4   6483659  사이몬페그의 익살스런 연기가 돋보였던 영화!스파이더맨에서 늙어보이기만 했던 커스틴 ...      1"
      ]
     },
     "execution_count": 19,
     "metadata": {},
     "output_type": "execute_result"
    }
   ],
   "source": [
    "# 데이터 불러오기#\n",
    "train_data = pd.read_table('ratings_train.txt')\n",
    "test_data = pd.read_table('ratings_test.txt')\n",
    "\n",
    "train_data.head()"
   ]
  },
  {
   "cell_type": "code",
   "execution_count": 20,
   "id": "a264a6ca-7c7c-491e-bda2-08342d19d0fa",
   "metadata": {},
   "outputs": [
    {
     "name": "stdout",
     "output_type": "stream",
     "text": [
      "리뷰 개수: 150000\n",
      "Nan 확인: True\n"
     ]
    }
   ],
   "source": [
    "# 전처리 #\n",
    "print('리뷰 개수:', len(train_data))\n",
    "print('Nan 확인:', train_data.isnull().values.any())"
   ]
  },
  {
   "cell_type": "code",
   "execution_count": 21,
   "id": "1641be44-375e-426e-a9d3-9daa8b90672b",
   "metadata": {},
   "outputs": [
    {
     "name": "stderr",
     "output_type": "stream",
     "text": [
      "/tmp/ipykernel_47814/348515962.py:6: FutureWarning: The default value of regex will change from True to False in a future version.\n",
      "  train_data['document'] = train_data['document'].str.replace(\"[^ㄱ-ㅎㅏ-ㅣ가-힣 ]\",\"\")\n",
      "/tmp/ipykernel_47814/348515962.py:8: FutureWarning: The default value of regex will change from True to False in a future version.\n",
      "  train_data['document'] = train_data['document'].str.replace('^ +', \"\")\n",
      "/tmp/ipykernel_47814/348515962.py:18: FutureWarning: The default value of regex will change from True to False in a future version.\n",
      "  test_data['document'] = test_data['document'].str.replace(\"[^ㄱ-ㅎㅏ-ㅣ가-힣 ]\",\"\")\n",
      "/tmp/ipykernel_47814/348515962.py:20: FutureWarning: The default value of regex will change from True to False in a future version.\n",
      "  test_data['document'] = test_data['document'].str.replace('^ +', \"\")\n"
     ]
    }
   ],
   "source": [
    "# 학습 데이터 중복 제거\n",
    "train_data.drop_duplicates(subset=['document'], inplace=True)\n",
    "# Nan 결측치 제거\n",
    "train_data = train_data.dropna(how = 'any') \n",
    "#학습 데이터 전처리\n",
    "train_data['document'] = train_data['document'].str.replace(\"[^ㄱ-ㅎㅏ-ㅣ가-힣 ]\",\"\")\n",
    "# 바뀐 학습 데이터 내부에 결측치가 있는지 재확인\n",
    "train_data['document'] = train_data['document'].str.replace('^ +', \"\")\n",
    "train_data['document'].replace('', np.nan, inplace=True)\n",
    "# 수정된 학습 데이터 내 결측치 제거 후 학습 데이터의 개수 확인\n",
    "train_data = train_data.dropna(how = 'any')\n",
    "\n",
    "# 테스트 데이터 중복 제거\n",
    "test_data.drop_duplicates(subset=['document'], inplace=True)\n",
    "# Nan 결측치 제거\n",
    "test_data =test_data.dropna(how='any')\n",
    "#테스트 데이터 전처리\n",
    "test_data['document'] = test_data['document'].str.replace(\"[^ㄱ-ㅎㅏ-ㅣ가-힣 ]\",\"\")\n",
    "# 바뀐 테스트 데이터 내부에 결측치가 있는지 재확인\n",
    "test_data['document'] = test_data['document'].str.replace('^ +', \"\") \n",
    "test_data['document'].replace('', np.nan, inplace=True) \n",
    "# 수정된 테스트 데이터 내 결측치 제거 후 테스트 데이터의 개수 확인\n",
    "test_data = test_data.dropna(how = 'any')"
   ]
  },
  {
   "cell_type": "code",
   "execution_count": 22,
   "id": "3b925e2a-03ed-4860-8e5d-64686d8234f5",
   "metadata": {},
   "outputs": [
    {
     "name": "stdout",
     "output_type": "stream",
     "text": [
      "train_data 리뷰 개수: 145393\n",
      "test_data 리뷰 개수: 48852\n"
     ]
    }
   ],
   "source": [
    "print('train_data 리뷰 개수:', len(train_data))\n",
    "print('test_data 리뷰 개수:', len(test_data))"
   ]
  },
  {
   "cell_type": "code",
   "execution_count": 23,
   "id": "85b1781f-380e-4278-8732-3b3864e1ad57",
   "metadata": {},
   "outputs": [
    {
     "name": "stdout",
     "output_type": "stream",
     "text": [
      "Data size: 143620\n",
      "문장의 최단 길이: 1\n",
      "문장의 최장 길이: 140\n",
      "문장의 평균 길이: 33\n"
     ]
    },
    {
     "name": "stderr",
     "output_type": "stream",
     "text": [
      "/tmp/ipykernel_47814/600462950.py:30: DeprecationWarning: `np.int` is a deprecated alias for the builtin `int`. To silence this warning, use `int` by itself. Doing this will not modify any behavior and is safe. When replacing `np.int`, you may wish to use e.g. `np.int64` or `np.int32` to specify the precision. If you wish to review your current use, check the release note link for additional information.\n",
      "Deprecated in NumPy 1.20; for more details and guidance: https://numpy.org/devdocs/release/1.20.0-notes.html#deprecations\n",
      "  sentence_length = np.zeros((max_len), dtype=np.int)\n"
     ]
    },
    {
     "data": {
      "image/png": "[encoded data removed]",
      "text/plain": [
       "<Figure size 640x480 with 1 Axes>"
      ]
     },
     "metadata": {},
     "output_type": "display_data"
    }
   ],
   "source": [
    "#  문장의 최단 길이, 최장 길이, 평균 길이를 구한 후 문장 길이 분포를 막대그래프로 표현해 주는 소스\n",
    "min_len = 999\n",
    "max_len = 0\n",
    "sum_len = 0\n",
    "\n",
    "cleaned_corpus = list(set(train_data['document']))\n",
    "print(\"Data size:\", len(cleaned_corpus))\n",
    "\n",
    "for sen in train_data['document']: # train_data['document'] 앞서 다운로드받은 데이터가 담긴 변수\n",
    "    length = len(sen)\n",
    "    \n",
    "    # 문장 최소 길이 찾기\n",
    "    if min_len > length:\n",
    "        min_len = length\n",
    "    \n",
    "    # 문장 최대 길이 찾기\n",
    "    if max_len < length:\n",
    "        max_len = length\n",
    "    \n",
    "    # 전체 문장을 합쳐서 나온 길이\n",
    "    sum_len += length\n",
    "    \n",
    "print(\"문장의 최단 길이:\", min_len)\n",
    "print(\"문장의 최장 길이:\", max_len)\n",
    "print(\"문장의 평균 길이:\", sum_len // len(train_data))\n",
    "\n",
    "# 전체 길이를 0 벡터로 만듦. \n",
    "# 길이에 따른 문장의 수를 저장하기 위해서 0으로 이루어진 list를 만듦.\n",
    "#분포도 그려보자\n",
    "sentence_length = np.zeros((max_len), dtype=np.int) \n",
    "\n",
    "# 0으로 이루어진 벡터에 문장 count를 더한 뒤 넣는다.\n",
    "for sen in train_data['document']:\n",
    "    sentence_length[len(sen)-1] += 1 \n",
    "\n",
    "plt.bar(range(max_len), sentence_length, width=1.0) # 너비는 1.0씩 늘어나도록 설정\n",
    "plt.title(\"Sentence Length Distribution\")\n",
    "plt.show()"
   ]
  },
  {
   "cell_type": "code",
   "execution_count": 24,
   "id": "de611b1d-ef3c-432d-b632-c2c3fff2b465",
   "metadata": {},
   "outputs": [
    {
     "name": "stderr",
     "output_type": "stream",
     "text": [
      "/tmp/ipykernel_47814/3973514937.py:8: DeprecationWarning: `np.int` is a deprecated alias for the builtin `int`. To silence this warning, use `int` by itself. Doing this will not modify any behavior and is safe. When replacing `np.int`, you may wish to use e.g. `np.int64` or `np.int32` to specify the precision. If you wish to review your current use, check the release note link for additional information.\n",
      "Deprecated in NumPy 1.20; for more details and guidance: https://numpy.org/devdocs/release/1.20.0-notes.html#deprecations\n",
      "  sentence_length = np.zeros((max_len), dtype=np.int)\n"
     ]
    },
    {
     "data": {
      "image/png": "[encoded data removed]",
      "text/plain": [
       "<Figure size 640x480 with 1 Axes>"
      ]
     },
     "metadata": {},
     "output_type": "display_data"
    }
   ],
   "source": [
    "max_len = 80\n",
    "min_len = 1\n",
    "\n",
    "# 길이 조건에 맞는 문장만 선택합니다.\n",
    "filtered_corpus = [s for s in cleaned_corpus if (len(s) < max_len) & (len(s) >= min_len)]\n",
    "\n",
    "# 분포도를 다시 그려봅니다.\n",
    "sentence_length = np.zeros((max_len), dtype=np.int)\n",
    "\n",
    "for sen in filtered_corpus:\n",
    "    sentence_length[len(sen)-1] += 1\n",
    "\n",
    "plt.bar(range(max_len), sentence_length, width=1.0)\n",
    "plt.title(\"Sentence Length Distribution\")\n",
    "plt.show()"
   ]
  },
  {
   "cell_type": "code",
   "execution_count": 25,
   "id": "a0d822f1-4044-4fdf-9472-0ea6664d4da8",
   "metadata": {},
   "outputs": [
    {
     "name": "stdout",
     "output_type": "stream",
     "text": [
      "done\n"
     ]
    },
    {
     "name": "stderr",
     "output_type": "stream",
     "text": [
      "sentencepiece_trainer.cc(177) LOG(INFO) Running command: --input=/mnt/disk2/modoo-nlp/sp_tokenizer/data/korean-english-park.train.ko.temp --model_prefix=naver_korean_spm01  --vocab_size=8000\n",
      "sentencepiece_trainer.cc(77) LOG(INFO) Starts training with : \n",
      "trainer_spec {\n",
      "  input: /mnt/disk2/modoo-nlp/sp_tokenizer/data/korean-english-park.train.ko.temp\n",
      "  input_format: \n",
      "  model_prefix: naver_korean_spm01\n",
      "  model_type: UNIGRAM\n",
      "  vocab_size: 8000\n",
      "  self_test_sample_size: 0\n",
      "  character_coverage: 0.9995\n",
      "  input_sentence_size: 0\n",
      "  shuffle_input_sentence: 1\n",
      "  seed_sentencepiece_size: 1000000\n",
      "  shrinking_factor: 0.75\n",
      "  max_sentence_length: 4192\n",
      "  num_threads: 16\n",
      "  num_sub_iterations: 2\n",
      "  max_sentencepiece_length: 16\n",
      "  split_by_unicode_script: 1\n",
      "  split_by_number: 1\n",
      "  split_by_whitespace: 1\n",
      "  split_digits: 0\n",
      "  treat_whitespace_as_suffix: 0\n",
      "  allow_whitespace_only_pieces: 0\n",
      "  required_chars: \n",
      "  byte_fallback: 0\n",
      "  vocabulary_output_piece_score: 1\n",
      "  train_extremely_large_corpus: 0\n",
      "  hard_vocab_limit: 1\n",
      "  use_all_vocab: 0\n",
      "  unk_id: 0\n",
      "  bos_id: 1\n",
      "  eos_id: 2\n",
      "  pad_id: -1\n",
      "  unk_piece: <unk>\n",
      "  bos_piece: <s>\n",
      "  eos_piece: </s>\n",
      "  pad_piece: <pad>\n",
      "  unk_surface:  ⁇ \n",
      "  enable_differential_privacy: 0\n",
      "  differential_privacy_noise_level: 0\n",
      "  differential_privacy_clipping_threshold: 0\n",
      "}\n",
      "normalizer_spec {\n",
      "  name: nmt_nfkc\n",
      "  add_dummy_prefix: 1\n",
      "  remove_extra_whitespaces: 1\n",
      "  escape_whitespaces: 1\n",
      "  normalization_rule_tsv: \n",
      "}\n",
      "denormalizer_spec {}\n",
      "trainer_interface.cc(350) LOG(INFO) SentenceIterator is not specified. Using MultiFileSentenceIterator.\n",
      "trainer_interface.cc(181) LOG(INFO) Loading corpus: /mnt/disk2/modoo-nlp/sp_tokenizer/data/korean-english-park.train.ko.temp\n",
      "trainer_interface.cc(406) LOG(INFO) Loaded all 131589 sentences\n",
      "trainer_interface.cc(422) LOG(INFO) Adding meta_piece: <unk>\n",
      "trainer_interface.cc(422) LOG(INFO) Adding meta_piece: <s>\n",
      "trainer_interface.cc(422) LOG(INFO) Adding meta_piece: </s>\n",
      "trainer_interface.cc(427) LOG(INFO) Normalizing sentences...\n",
      "trainer_interface.cc(536) LOG(INFO) all chars count=3614459\n",
      "trainer_interface.cc(547) LOG(INFO) Done: 99.95% characters are covered.\n",
      "trainer_interface.cc(557) LOG(INFO) Alphabet size=1566\n",
      "trainer_interface.cc(558) LOG(INFO) Final character coverage=0.9995\n",
      "trainer_interface.cc(590) LOG(INFO) Done! preprocessed 131589 sentences.\n",
      "unigram_model_trainer.cc(146) LOG(INFO) Making suffix array...\n",
      "unigram_model_trainer.cc(150) LOG(INFO) Extracting frequent sub strings...\n",
      "unigram_model_trainer.cc(201) LOG(INFO) Initialized 243739 seed sentencepieces\n",
      "trainer_interface.cc(596) LOG(INFO) Tokenizing input sentences with whitespace: 131589\n",
      "trainer_interface.cc(607) LOG(INFO) Done! 227849\n",
      "unigram_model_trainer.cc(491) LOG(INFO) Using 227849 sentences for EM training\n",
      "unigram_model_trainer.cc(507) LOG(INFO) EM sub_iter=0 size=120493 obj=13.8585 num_tokens=475119 num_tokens/piece=3.94313\n",
      "unigram_model_trainer.cc(507) LOG(INFO) EM sub_iter=1 size=111200 obj=12.9622 num_tokens=477338 num_tokens/piece=4.29261\n",
      "unigram_model_trainer.cc(507) LOG(INFO) EM sub_iter=0 size=83342 obj=13.0604 num_tokens=502534 num_tokens/piece=6.02978\n",
      "unigram_model_trainer.cc(507) LOG(INFO) EM sub_iter=1 size=83171 obj=13.0039 num_tokens=502806 num_tokens/piece=6.04545\n",
      "unigram_model_trainer.cc(507) LOG(INFO) EM sub_iter=0 size=62373 obj=13.2453 num_tokens=534263 num_tokens/piece=8.56561\n",
      "unigram_model_trainer.cc(507) LOG(INFO) EM sub_iter=1 size=62368 obj=13.181 num_tokens=534449 num_tokens/piece=8.56928\n",
      "unigram_model_trainer.cc(507) LOG(INFO) EM sub_iter=0 size=46776 obj=13.4448 num_tokens=564285 num_tokens/piece=12.0636\n",
      "unigram_model_trainer.cc(507) LOG(INFO) EM sub_iter=1 size=46776 obj=13.3802 num_tokens=564281 num_tokens/piece=12.0635\n",
      "unigram_model_trainer.cc(507) LOG(INFO) EM sub_iter=0 size=35082 obj=13.6762 num_tokens=596141 num_tokens/piece=16.9928\n",
      "unigram_model_trainer.cc(507) LOG(INFO) EM sub_iter=1 size=35082 obj=13.6099 num_tokens=596231 num_tokens/piece=16.9954\n",
      "unigram_model_trainer.cc(507) LOG(INFO) EM sub_iter=0 size=26311 obj=13.9374 num_tokens=628163 num_tokens/piece=23.8745\n",
      "unigram_model_trainer.cc(507) LOG(INFO) EM sub_iter=1 size=26311 obj=13.8688 num_tokens=628161 num_tokens/piece=23.8745\n",
      "unigram_model_trainer.cc(507) LOG(INFO) EM sub_iter=0 size=19733 obj=14.2298 num_tokens=660931 num_tokens/piece=33.4937\n",
      "unigram_model_trainer.cc(507) LOG(INFO) EM sub_iter=1 size=19733 obj=14.1569 num_tokens=660944 num_tokens/piece=33.4943\n",
      "unigram_model_trainer.cc(507) LOG(INFO) EM sub_iter=0 size=14799 obj=14.5433 num_tokens=695302 num_tokens/piece=46.983\n",
      "unigram_model_trainer.cc(507) LOG(INFO) EM sub_iter=1 size=14799 obj=14.4601 num_tokens=695428 num_tokens/piece=46.9916\n",
      "unigram_model_trainer.cc(507) LOG(INFO) EM sub_iter=0 size=11099 obj=14.8904 num_tokens=731023 num_tokens/piece=65.8639\n",
      "unigram_model_trainer.cc(507) LOG(INFO) EM sub_iter=1 size=11099 obj=14.7886 num_tokens=731158 num_tokens/piece=65.876\n",
      "unigram_model_trainer.cc(507) LOG(INFO) EM sub_iter=0 size=8800 obj=15.1717 num_tokens=761725 num_tokens/piece=86.5597\n",
      "unigram_model_trainer.cc(507) LOG(INFO) EM sub_iter=1 size=8800 obj=15.0889 num_tokens=761870 num_tokens/piece=86.5761\n",
      "trainer_interface.cc(685) LOG(INFO) Saving model: naver_korean_spm01.model\n",
      "trainer_interface.cc(697) LOG(INFO) Saving vocabs: naver_korean_spm01.vocab\n"
     ]
    }
   ],
   "source": [
    "# Sentencepiece unigram #\n",
    "temp_file = '/mnt/disk2/modoo-nlp/sp_tokenizer/data/korean-english-park.train.ko.temp'\n",
    "\n",
    "vocab_size = 8000\n",
    "\n",
    "with open(temp_file, 'w') as f:\n",
    "    for row in filtered_corpus:   # 이전 스텝에서 정제했던 corpus를 활용합니다.\n",
    "        f.write(str(row) + '\\n')\n",
    "\n",
    "spm.SentencePieceTrainer.Train(\n",
    "    '--input={} --model_prefix=naver_korean_spm01  --vocab_size={}'.format(temp_file, vocab_size)    \n",
    ")\n",
    "#위 Train에서  --model_type = 'unigram'이 디폴트 적용되어 있습니다. --model_type = 'bpe' 로 옵션을 주어 변경할 수 있습니다.\n",
    "\n",
    "print('done')"
   ]
  },
  {
   "cell_type": "code",
   "execution_count": 26,
   "id": "ff4a349f-ca52-48bc-83c5-aee781686574",
   "metadata": {},
   "outputs": [
    {
     "name": "stdout",
     "output_type": "stream",
     "text": [
      "-rw-rw-r-- 1 ubuntu ubuntu 378423 Oct 19 08:27 naver_korean_spm01.model\n",
      "-rw-rw-r-- 1 ubuntu ubuntu 147913 Oct 19 08:27 naver_korean_spm01.vocab\n"
     ]
    }
   ],
   "source": [
    "!ls -l naver_korean_spm01*"
   ]
  },
  {
   "cell_type": "code",
   "execution_count": 27,
   "id": "e0e1f572-2819-4b18-80f7-899ec7766146",
   "metadata": {},
   "outputs": [
    {
     "name": "stdout",
     "output_type": "stream",
     "text": [
      "done\n"
     ]
    },
    {
     "name": "stderr",
     "output_type": "stream",
     "text": [
      "sentencepiece_trainer.cc(177) LOG(INFO) Running command: --input=/mnt/disk2/modoo-nlp/sp_tokenizer/data/korean-english-park.train.ko.temp --model_prefix=naver_korean_spm02 --model_type=bpe --vocab_size=8000\n",
      "sentencepiece_trainer.cc(77) LOG(INFO) Starts training with : \n",
      "trainer_spec {\n",
      "  input: /mnt/disk2/modoo-nlp/sp_tokenizer/data/korean-english-park.train.ko.temp\n",
      "  input_format: \n",
      "  model_prefix: naver_korean_spm02\n",
      "  model_type: BPE\n",
      "  vocab_size: 8000\n",
      "  self_test_sample_size: 0\n",
      "  character_coverage: 0.9995\n",
      "  input_sentence_size: 0\n",
      "  shuffle_input_sentence: 1\n",
      "  seed_sentencepiece_size: 1000000\n",
      "  shrinking_factor: 0.75\n",
      "  max_sentence_length: 4192\n",
      "  num_threads: 16\n",
      "  num_sub_iterations: 2\n",
      "  max_sentencepiece_length: 16\n",
      "  split_by_unicode_script: 1\n",
      "  split_by_number: 1\n",
      "  split_by_whitespace: 1\n",
      "  split_digits: 0\n",
      "  treat_whitespace_as_suffix: 0\n",
      "  allow_whitespace_only_pieces: 0\n",
      "  required_chars: \n",
      "  byte_fallback: 0\n",
      "  vocabulary_output_piece_score: 1\n",
      "  train_extremely_large_corpus: 0\n",
      "  hard_vocab_limit: 1\n",
      "  use_all_vocab: 0\n",
      "  unk_id: 0\n",
      "  bos_id: 1\n",
      "  eos_id: 2\n",
      "  pad_id: -1\n",
      "  unk_piece: <unk>\n",
      "  bos_piece: <s>\n",
      "  eos_piece: </s>\n",
      "  pad_piece: <pad>\n",
      "  unk_surface:  ⁇ \n",
      "  enable_differential_privacy: 0\n",
      "  differential_privacy_noise_level: 0\n",
      "  differential_privacy_clipping_threshold: 0\n",
      "}\n",
      "normalizer_spec {\n",
      "  name: nmt_nfkc\n",
      "  add_dummy_prefix: 1\n",
      "  remove_extra_whitespaces: 1\n",
      "  escape_whitespaces: 1\n",
      "  normalization_rule_tsv: \n",
      "}\n",
      "denormalizer_spec {}\n",
      "trainer_interface.cc(350) LOG(INFO) SentenceIterator is not specified. Using MultiFileSentenceIterator.\n",
      "trainer_interface.cc(181) LOG(INFO) Loading corpus: /mnt/disk2/modoo-nlp/sp_tokenizer/data/korean-english-park.train.ko.temp\n",
      "trainer_interface.cc(406) LOG(INFO) Loaded all 131589 sentences\n",
      "trainer_interface.cc(422) LOG(INFO) Adding meta_piece: <unk>\n",
      "trainer_interface.cc(422) LOG(INFO) Adding meta_piece: <s>\n",
      "trainer_interface.cc(422) LOG(INFO) Adding meta_piece: </s>\n",
      "trainer_interface.cc(427) LOG(INFO) Normalizing sentences...\n",
      "trainer_interface.cc(536) LOG(INFO) all chars count=3614459\n",
      "trainer_interface.cc(547) LOG(INFO) Done: 99.95% characters are covered.\n",
      "trainer_interface.cc(557) LOG(INFO) Alphabet size=1566\n",
      "trainer_interface.cc(558) LOG(INFO) Final character coverage=0.9995\n",
      "trainer_interface.cc(590) LOG(INFO) Done! preprocessed 131589 sentences.\n",
      "trainer_interface.cc(596) LOG(INFO) Tokenizing input sentences with whitespace: 131589\n",
      "trainer_interface.cc(607) LOG(INFO) Done! 227849\n",
      "bpe_model_trainer.cc(167) LOG(INFO) Updating active symbols. max_freq=46707 min_freq=68\n",
      "bpe_model_trainer.cc(258) LOG(INFO) Added: freq=8090 size=20 all=102553 active=10424 piece=▁하\n",
      "bpe_model_trainer.cc(258) LOG(INFO) Added: freq=6408 size=40 all=106614 active=14485 piece=으로\n",
      "bpe_model_trainer.cc(258) LOG(INFO) Added: freq=4329 size=60 all=110342 active=18213 piece=하는\n",
      "bpe_model_trainer.cc(258) LOG(INFO) Added: freq=3418 size=80 all=114927 active=22798 piece=▁생각\n",
      "bpe_model_trainer.cc(258) LOG(INFO) Added: freq=3013 size=100 all=117804 active=25675 piece=▁느\n",
      "bpe_model_trainer.cc(167) LOG(INFO) Updating active symbols. max_freq=2967 min_freq=55\n",
      "bpe_model_trainer.cc(258) LOG(INFO) Added: freq=2601 size=120 all=120770 active=8823 piece=이라\n",
      "bpe_model_trainer.cc(258) LOG(INFO) Added: freq=2247 size=140 all=123358 active=11411 piece=▁참\n",
      "bpe_model_trainer.cc(258) LOG(INFO) Added: freq=2021 size=160 all=126013 active=14066 piece=▁매\n",
      "bpe_model_trainer.cc(258) LOG(INFO) Added: freq=1868 size=180 all=128551 active=16604 piece=▁코\n",
      "bpe_model_trainer.cc(258) LOG(INFO) Added: freq=1759 size=200 all=130888 active=18941 piece=▁불\n",
      "bpe_model_trainer.cc(167) LOG(INFO) Updating active symbols. max_freq=1754 min_freq=48\n",
      "bpe_model_trainer.cc(258) LOG(INFO) Added: freq=1598 size=220 all=133546 active=9089 piece=▁지금\n",
      "bpe_model_trainer.cc(258) LOG(INFO) Added: freq=1471 size=240 all=135553 active=11096 piece=▁평점이\n",
      "bpe_model_trainer.cc(258) LOG(INFO) Added: freq=1352 size=260 all=137866 active=13409 piece=▁짜\n",
      "bpe_model_trainer.cc(258) LOG(INFO) Added: freq=1284 size=280 all=140440 active=15982 piece=▁심\n",
      "bpe_model_trainer.cc(258) LOG(INFO) Added: freq=1198 size=300 all=142849 active=18391 piece=주는\n",
      "bpe_model_trainer.cc(167) LOG(INFO) Updating active symbols. max_freq=1197 min_freq=43\n",
      "bpe_model_trainer.cc(258) LOG(INFO) Added: freq=1120 size=320 all=144846 active=8996 piece=▁짱\n",
      "bpe_model_trainer.cc(258) LOG(INFO) Added: freq=1054 size=340 all=147013 active=11163 piece=▁아깝다\n",
      "bpe_model_trainer.cc(258) LOG(INFO) Added: freq=984 size=360 all=149592 active=13742 piece=▁힘\n",
      "bpe_model_trainer.cc(258) LOG(INFO) Added: freq=956 size=380 all=151131 active=15281 piece=사람\n",
      "bpe_model_trainer.cc(258) LOG(INFO) Added: freq=905 size=400 all=152654 active=16804 piece=보는\n",
      "bpe_model_trainer.cc(167) LOG(INFO) Updating active symbols. max_freq=905 min_freq=39\n",
      "bpe_model_trainer.cc(258) LOG(INFO) Added: freq=853 size=420 all=154605 active=9318 piece=▁영상\n",
      "bpe_model_trainer.cc(258) LOG(INFO) Added: freq=808 size=440 all=156395 active=11108 piece=▁간\n",
      "bpe_model_trainer.cc(258) LOG(INFO) Added: freq=768 size=460 all=158411 active=13124 piece=릭터\n",
      "bpe_model_trainer.cc(258) LOG(INFO) Added: freq=741 size=480 all=159504 active=14217 piece=▁피\n",
      "bpe_model_trainer.cc(258) LOG(INFO) Added: freq=711 size=500 all=161156 active=15869 piece=▁아주\n",
      "bpe_model_trainer.cc(167) LOG(INFO) Updating active symbols. max_freq=707 min_freq=36\n",
      "bpe_model_trainer.cc(258) LOG(INFO) Added: freq=678 size=520 all=162948 active=9815 piece=▁행\n",
      "bpe_model_trainer.cc(258) LOG(INFO) Added: freq=658 size=540 all=165012 active=11879 piece=떨어\n",
      "bpe_model_trainer.cc(258) LOG(INFO) Added: freq=642 size=560 all=166598 active=13465 piece=▁흥미\n",
      "bpe_model_trainer.cc(258) LOG(INFO) Added: freq=625 size=580 all=168933 active=15800 piece=▁가족\n",
      "bpe_model_trainer.cc(258) LOG(INFO) Added: freq=607 size=600 all=170845 active=17712 piece=▁그래도\n",
      "bpe_model_trainer.cc(167) LOG(INFO) Updating active symbols. max_freq=606 min_freq=34\n",
      "bpe_model_trainer.cc(258) LOG(INFO) Added: freq=585 size=620 all=172554 active=10235 piece=해요\n",
      "bpe_model_trainer.cc(258) LOG(INFO) Added: freq=558 size=640 all=174335 active=12016 piece=▁막장\n",
      "bpe_model_trainer.cc(258) LOG(INFO) Added: freq=543 size=660 all=176091 active=13772 piece=▁조금\n",
      "bpe_model_trainer.cc(258) LOG(INFO) Added: freq=523 size=680 all=176973 active=14654 piece=▁케\n",
      "bpe_model_trainer.cc(258) LOG(INFO) Added: freq=508 size=700 all=178598 active=16279 piece=▁메\n",
      "bpe_model_trainer.cc(167) LOG(INFO) Updating active symbols. max_freq=508 min_freq=31\n",
      "bpe_model_trainer.cc(258) LOG(INFO) Added: freq=499 size=720 all=179883 active=10164 piece=▁미국\n",
      "bpe_model_trainer.cc(258) LOG(INFO) Added: freq=486 size=740 all=181274 active=11555 piece=ᄏᄏᄏᄏᄏᄏᄏᄏ\n",
      "bpe_model_trainer.cc(258) LOG(INFO) Added: freq=476 size=760 all=182977 active=13258 piece=고싶\n",
      "bpe_model_trainer.cc(258) LOG(INFO) Added: freq=464 size=780 all=184581 active=14862 piece=학교\n",
      "bpe_model_trainer.cc(258) LOG(INFO) Added: freq=455 size=800 all=185810 active=16091 piece=▁보게\n",
      "bpe_model_trainer.cc(167) LOG(INFO) Updating active symbols. max_freq=455 min_freq=30\n",
      "bpe_model_trainer.cc(258) LOG(INFO) Added: freq=442 size=820 all=186956 active=10416 piece=▁지루함\n",
      "bpe_model_trainer.cc(258) LOG(INFO) Added: freq=433 size=840 all=188000 active=11460 piece=▁복\n",
      "bpe_model_trainer.cc(258) LOG(INFO) Added: freq=423 size=860 all=189404 active=12864 piece=▁헐\n",
      "bpe_model_trainer.cc(258) LOG(INFO) Added: freq=413 size=880 all=190787 active=14247 piece=▁후회\n",
      "bpe_model_trainer.cc(258) LOG(INFO) Added: freq=403 size=900 all=192041 active=15501 piece=▁점이\n",
      "bpe_model_trainer.cc(167) LOG(INFO) Updating active symbols. max_freq=403 min_freq=28\n",
      "bpe_model_trainer.cc(258) LOG(INFO) Added: freq=394 size=920 all=193264 active=10787 piece=▁예술\n",
      "bpe_model_trainer.cc(258) LOG(INFO) Added: freq=384 size=940 all=194418 active=11941 piece=▁클\n",
      "bpe_model_trainer.cc(258) LOG(INFO) Added: freq=376 size=960 all=195963 active=13486 piece=치고\n",
      "bpe_model_trainer.cc(258) LOG(INFO) Added: freq=367 size=980 all=196916 active=14439 piece=▁사실\n",
      "bpe_model_trainer.cc(258) LOG(INFO) Added: freq=358 size=1000 all=198199 active=15722 piece=그래\n",
      "bpe_model_trainer.cc(167) LOG(INFO) Updating active symbols. max_freq=357 min_freq=27\n",
      "bpe_model_trainer.cc(258) LOG(INFO) Added: freq=347 size=1020 all=199437 active=10954 piece=▁매우\n",
      "bpe_model_trainer.cc(258) LOG(INFO) Added: freq=337 size=1040 all=200338 active=11855 piece=보니\n",
      "bpe_model_trainer.cc(258) LOG(INFO) Added: freq=328 size=1060 all=201494 active=13011 piece=▁순수\n",
      "bpe_model_trainer.cc(258) LOG(INFO) Added: freq=322 size=1080 all=202639 active=14156 piece=▁라\n",
      "bpe_model_trainer.cc(258) LOG(INFO) Added: freq=315 size=1100 all=203766 active=15283 piece=▁이름\n",
      "bpe_model_trainer.cc(167) LOG(INFO) Updating active symbols. max_freq=315 min_freq=26\n",
      "bpe_model_trainer.cc(258) LOG(INFO) Added: freq=311 size=1120 all=204789 active=11170 piece=▁로맨스\n",
      "bpe_model_trainer.cc(258) LOG(INFO) Added: freq=304 size=1140 all=205829 active=12210 piece=▁눈물이\n",
      "bpe_model_trainer.cc(258) LOG(INFO) Added: freq=296 size=1160 all=206909 active=13290 piece=▁엄마\n",
      "bpe_model_trainer.cc(258) LOG(INFO) Added: freq=290 size=1180 all=207905 active=14286 piece=▁킬링타임용\n",
      "bpe_model_trainer.cc(258) LOG(INFO) Added: freq=286 size=1200 all=209187 active=15568 piece=▁한마디\n",
      "bpe_model_trainer.cc(167) LOG(INFO) Updating active symbols. max_freq=285 min_freq=24\n",
      "bpe_model_trainer.cc(258) LOG(INFO) Added: freq=278 size=1220 all=210174 active=11431 piece=▁ᄍᄍ\n",
      "bpe_model_trainer.cc(258) LOG(INFO) Added: freq=275 size=1240 all=211252 active=12509 piece=▁있을\n",
      "bpe_model_trainer.cc(258) LOG(INFO) Added: freq=267 size=1260 all=212715 active=13972 piece=▁철\n",
      "bpe_model_trainer.cc(258) LOG(INFO) Added: freq=261 size=1280 all=213874 active=15131 piece=▁빵\n",
      "bpe_model_trainer.cc(258) LOG(INFO) Added: freq=257 size=1300 all=215146 active=16403 piece=ᄋᄋ\n",
      "bpe_model_trainer.cc(167) LOG(INFO) Updating active symbols. max_freq=257 min_freq=23\n",
      "bpe_model_trainer.cc(258) LOG(INFO) Added: freq=254 size=1320 all=215927 active=11455 piece=▁화려\n",
      "bpe_model_trainer.cc(258) LOG(INFO) Added: freq=248 size=1340 all=216972 active=12500 piece=▁슬픈\n",
      "bpe_model_trainer.cc(258) LOG(INFO) Added: freq=242 size=1360 all=218013 active=13541 piece=려서\n",
      "bpe_model_trainer.cc(258) LOG(INFO) Added: freq=239 size=1380 all=219227 active=14755 piece=▁윤\n",
      "bpe_model_trainer.cc(258) LOG(INFO) Added: freq=235 size=1400 all=220154 active=15682 piece=시키\n",
      "bpe_model_trainer.cc(167) LOG(INFO) Updating active symbols. max_freq=235 min_freq=23\n",
      "bpe_model_trainer.cc(258) LOG(INFO) Added: freq=231 size=1420 all=221011 active=11734 piece=▁생각하게\n",
      "bpe_model_trainer.cc(258) LOG(INFO) Added: freq=226 size=1440 all=221894 active=12617 piece=봐서\n",
      "bpe_model_trainer.cc(258) LOG(INFO) Added: freq=222 size=1460 all=222907 active=13630 piece=▁뭐가\n",
      "bpe_model_trainer.cc(258) LOG(INFO) Added: freq=219 size=1480 all=223567 active=14290 piece=▁같은데\n",
      "bpe_model_trainer.cc(258) LOG(INFO) Added: freq=216 size=1500 all=224884 active=15607 piece=▁마음에\n",
      "bpe_model_trainer.cc(167) LOG(INFO) Updating active symbols. max_freq=216 min_freq=22\n",
      "bpe_model_trainer.cc(258) LOG(INFO) Added: freq=212 size=1520 all=225855 active=12210 piece=지마라\n",
      "bpe_model_trainer.cc(258) LOG(INFO) Added: freq=208 size=1540 all=226965 active=13320 piece=▁한심\n",
      "bpe_model_trainer.cc(258) LOG(INFO) Added: freq=204 size=1560 all=227742 active=14097 piece=조건\n",
      "bpe_model_trainer.cc(258) LOG(INFO) Added: freq=201 size=1580 all=228738 active=15093 piece=었지만\n",
      "bpe_model_trainer.cc(258) LOG(INFO) Added: freq=199 size=1600 all=229413 active=15768 piece=▁돈주고\n",
      "bpe_model_trainer.cc(167) LOG(INFO) Updating active symbols. max_freq=199 min_freq=21\n",
      "bpe_model_trainer.cc(258) LOG(INFO) Added: freq=195 size=1620 all=230578 active=12617 piece=▁낫다\n",
      "bpe_model_trainer.cc(258) LOG(INFO) Added: freq=193 size=1640 all=231378 active=13417 piece=▁뮤\n",
      "bpe_model_trainer.cc(258) LOG(INFO) Added: freq=191 size=1660 all=232363 active=14402 piece=▁무조건\n",
      "bpe_model_trainer.cc(258) LOG(INFO) Added: freq=188 size=1680 all=233103 active=15142 piece=▁시절\n",
      "bpe_model_trainer.cc(258) LOG(INFO) Added: freq=186 size=1700 all=233842 active=15881 piece=봐라\n",
      "bpe_model_trainer.cc(167) LOG(INFO) Updating active symbols. max_freq=186 min_freq=20\n",
      "bpe_model_trainer.cc(258) LOG(INFO) Added: freq=184 size=1720 all=235145 active=12883 piece=▁몰랐\n",
      "bpe_model_trainer.cc(258) LOG(INFO) Added: freq=182 size=1740 all=235695 active=13433 piece=▁보는데\n",
      "bpe_model_trainer.cc(258) LOG(INFO) Added: freq=179 size=1760 all=236580 active=14318 piece=▁된다\n",
      "bpe_model_trainer.cc(258) LOG(INFO) Added: freq=177 size=1780 all=237700 active=15438 piece=▁아오\n",
      "bpe_model_trainer.cc(258) LOG(INFO) Added: freq=175 size=1800 all=238527 active=16265 piece=▁재미없고\n",
      "bpe_model_trainer.cc(167) LOG(INFO) Updating active symbols. max_freq=174 min_freq=20\n",
      "bpe_model_trainer.cc(258) LOG(INFO) Added: freq=173 size=1820 all=239261 active=12653 piece=▁지금도\n",
      "bpe_model_trainer.cc(258) LOG(INFO) Added: freq=170 size=1840 all=240044 active=13436 piece=▁학\n",
      "bpe_model_trainer.cc(258) LOG(INFO) Added: freq=167 size=1860 all=240756 active=14148 piece=▁보여주\n",
      "bpe_model_trainer.cc(258) LOG(INFO) Added: freq=164 size=1880 all=242028 active=15420 piece=▁천재\n",
      "bpe_model_trainer.cc(258) LOG(INFO) Added: freq=163 size=1900 all=242725 active=16117 piece=▁아무것도\n",
      "bpe_model_trainer.cc(167) LOG(INFO) Updating active symbols. max_freq=162 min_freq=19\n",
      "bpe_model_trainer.cc(258) LOG(INFO) Added: freq=159 size=1920 all=243248 active=12654 piece=많이\n",
      "bpe_model_trainer.cc(258) LOG(INFO) Added: freq=157 size=1940 all=244202 active=13608 piece=▁갔\n",
      "bpe_model_trainer.cc(258) LOG(INFO) Added: freq=156 size=1960 all=245006 active=14412 piece=▁억지로\n",
      "bpe_model_trainer.cc(258) LOG(INFO) Added: freq=154 size=1980 all=245542 active=14948 piece=▁전문\n",
      "bpe_model_trainer.cc(258) LOG(INFO) Added: freq=151 size=2000 all=246123 active=15529 piece=겟다\n",
      "bpe_model_trainer.cc(167) LOG(INFO) Updating active symbols. max_freq=151 min_freq=19\n",
      "bpe_model_trainer.cc(258) LOG(INFO) Added: freq=150 size=2020 all=247170 active=13289 piece=▁안맞\n",
      "bpe_model_trainer.cc(258) LOG(INFO) Added: freq=148 size=2040 all=248183 active=14302 piece=어라\n",
      "bpe_model_trainer.cc(258) LOG(INFO) Added: freq=147 size=2060 all=248969 active=15088 piece=▁허접한\n",
      "bpe_model_trainer.cc(258) LOG(INFO) Added: freq=145 size=2080 all=250186 active=16305 piece=▁봤었는데\n",
      "bpe_model_trainer.cc(258) LOG(INFO) Added: freq=143 size=2100 all=251009 active=17128 piece=▁실패\n",
      "bpe_model_trainer.cc(167) LOG(INFO) Updating active symbols. max_freq=143 min_freq=18\n",
      "bpe_model_trainer.cc(258) LOG(INFO) Added: freq=142 size=2120 all=251859 active=13372 piece=같은데\n",
      "bpe_model_trainer.cc(258) LOG(INFO) Added: freq=141 size=2140 all=252539 active=14052 piece=▁애들이\n",
      "bpe_model_trainer.cc(258) LOG(INFO) Added: freq=139 size=2160 all=253246 active=14759 piece=▁나에게\n",
      "bpe_model_trainer.cc(258) LOG(INFO) Added: freq=138 size=2180 all=253706 active=15219 piece=재밌어요\n",
      "bpe_model_trainer.cc(258) LOG(INFO) Added: freq=136 size=2200 all=254500 active=16013 piece=▁남아\n",
      "bpe_model_trainer.cc(167) LOG(INFO) Updating active symbols. max_freq=136 min_freq=18\n",
      "bpe_model_trainer.cc(258) LOG(INFO) Added: freq=135 size=2220 all=255416 active=13627 piece=▁역시나\n",
      "bpe_model_trainer.cc(258) LOG(INFO) Added: freq=134 size=2240 all=256156 active=14367 piece=퀄리티\n",
      "bpe_model_trainer.cc(258) LOG(INFO) Added: freq=133 size=2260 all=256801 active=15012 piece=▁장면은\n",
      "bpe_model_trainer.cc(258) LOG(INFO) Added: freq=132 size=2280 all=257449 active=15660 piece=▁음악이\n",
      "bpe_model_trainer.cc(258) LOG(INFO) Added: freq=130 size=2300 all=258133 active=16344 piece=프고\n",
      "bpe_model_trainer.cc(167) LOG(INFO) Updating active symbols. max_freq=130 min_freq=17\n",
      "bpe_model_trainer.cc(258) LOG(INFO) Added: freq=129 size=2320 all=258803 active=13562 piece=▁러브\n",
      "bpe_model_trainer.cc(258) LOG(INFO) Added: freq=128 size=2340 all=259516 active=14275 piece=▁깊은\n",
      "bpe_model_trainer.cc(258) LOG(INFO) Added: freq=127 size=2360 all=260237 active=14996 piece=마음\n",
      "bpe_model_trainer.cc(258) LOG(INFO) Added: freq=126 size=2380 all=261349 active=16108 piece=작가\n",
      "bpe_model_trainer.cc(258) LOG(INFO) Added: freq=125 size=2400 all=262263 active=17022 piece=▁이뻐\n",
      "bpe_model_trainer.cc(167) LOG(INFO) Updating active symbols. max_freq=125 min_freq=17\n",
      "bpe_model_trainer.cc(258) LOG(INFO) Added: freq=124 size=2420 all=262889 active=13731 piece=인은\n",
      "bpe_model_trainer.cc(258) LOG(INFO) Added: freq=123 size=2440 all=263335 active=14177 piece=쵝오\n",
      "bpe_model_trainer.cc(258) LOG(INFO) Added: freq=122 size=2460 all=263961 active=14803 piece=▁사극\n",
      "bpe_model_trainer.cc(258) LOG(INFO) Added: freq=121 size=2480 all=264805 active=15647 piece=▁힐링\n",
      "bpe_model_trainer.cc(258) LOG(INFO) Added: freq=120 size=2500 all=265419 active=16261 piece=아까운\n",
      "bpe_model_trainer.cc(167) LOG(INFO) Updating active symbols. max_freq=120 min_freq=16\n",
      "bpe_model_trainer.cc(258) LOG(INFO) Added: freq=119 size=2520 all=266016 active=13817 piece=▁프로그램\n",
      "bpe_model_trainer.cc(258) LOG(INFO) Added: freq=117 size=2540 all=266755 active=14556 piece=자들\n",
      "bpe_model_trainer.cc(258) LOG(INFO) Added: freq=116 size=2560 all=267220 active=15021 piece=▁밋밋\n",
      "bpe_model_trainer.cc(258) LOG(INFO) Added: freq=115 size=2580 all=267794 active=15595 piece=▁전에\n",
      "bpe_model_trainer.cc(258) LOG(INFO) Added: freq=114 size=2600 all=268448 active=16249 piece=▁산만\n",
      "bpe_model_trainer.cc(167) LOG(INFO) Updating active symbols. max_freq=114 min_freq=16\n",
      "bpe_model_trainer.cc(258) LOG(INFO) Added: freq=113 size=2620 all=268875 active=13831 piece=▁하이\n",
      "bpe_model_trainer.cc(258) LOG(INFO) Added: freq=113 size=2640 all=269331 active=14287 piece=▁기대안하고\n",
      "bpe_model_trainer.cc(258) LOG(INFO) Added: freq=112 size=2660 all=270026 active=14982 piece=▁배우의\n",
      "bpe_model_trainer.cc(258) LOG(INFO) Added: freq=111 size=2680 all=270667 active=15622 piece=▁웃기고\n",
      "bpe_model_trainer.cc(258) LOG(INFO) Added: freq=110 size=2700 all=271470 active=16425 piece=▁서로\n",
      "bpe_model_trainer.cc(167) LOG(INFO) Updating active symbols. max_freq=110 min_freq=16\n",
      "bpe_model_trainer.cc(258) LOG(INFO) Added: freq=109 size=2720 all=272132 active=14226 piece=줌마\n",
      "bpe_model_trainer.cc(258) LOG(INFO) Added: freq=108 size=2740 all=272674 active=14768 piece=끼리\n",
      "bpe_model_trainer.cc(258) LOG(INFO) Added: freq=107 size=2760 all=273416 active=15510 piece=▁ᄋ\n",
      "bpe_model_trainer.cc(258) LOG(INFO) Added: freq=106 size=2780 all=273932 active=16026 piece=▁윌\n",
      "bpe_model_trainer.cc(258) LOG(INFO) Added: freq=106 size=2800 all=274432 active=16526 piece=▁진심으로\n",
      "bpe_model_trainer.cc(167) LOG(INFO) Updating active symbols. max_freq=105 min_freq=15\n",
      "bpe_model_trainer.cc(258) LOG(INFO) Added: freq=105 size=2820 all=275057 active=14340 piece=▁하나하나\n",
      "bpe_model_trainer.cc(258) LOG(INFO) Added: freq=103 size=2840 all=275715 active=14998 piece=▁던\n",
      "bpe_model_trainer.cc(258) LOG(INFO) Added: freq=103 size=2860 all=276336 active=15619 piece=▁점수를\n",
      "bpe_model_trainer.cc(258) LOG(INFO) Added: freq=102 size=2880 all=277010 active=16293 piece=▁연속\n",
      "bpe_model_trainer.cc(258) LOG(INFO) Added: freq=101 size=2900 all=277722 active=17005 piece=▁광고\n",
      "bpe_model_trainer.cc(167) LOG(INFO) Updating active symbols. max_freq=101 min_freq=15\n",
      "bpe_model_trainer.cc(258) LOG(INFO) Added: freq=101 size=2920 all=278038 active=14157 piece=▁헐리웃\n",
      "bpe_model_trainer.cc(258) LOG(INFO) Added: freq=100 size=2940 all=278512 active=14631 piece=▁낮아서\n",
      "bpe_model_trainer.cc(258) LOG(INFO) Added: freq=99 size=2960 all=279029 active=15148 piece=▁말을\n",
      "bpe_model_trainer.cc(258) LOG(INFO) Added: freq=98 size=2980 all=279394 active=15513 piece=▁잇\n",
      "bpe_model_trainer.cc(258) LOG(INFO) Added: freq=98 size=3000 all=279911 active=16030 piece=▁인생의\n",
      "bpe_model_trainer.cc(167) LOG(INFO) Updating active symbols. max_freq=98 min_freq=15\n",
      "bpe_model_trainer.cc(258) LOG(INFO) Added: freq=97 size=3020 all=280401 active=14485 piece=나와서\n",
      "bpe_model_trainer.cc(258) LOG(INFO) Added: freq=96 size=3040 all=280862 active=14946 piece=버리\n",
      "bpe_model_trainer.cc(258) LOG(INFO) Added: freq=96 size=3060 all=281579 active=15663 piece=▁이따위\n",
      "bpe_model_trainer.cc(258) LOG(INFO) Added: freq=95 size=3080 all=282103 active=16187 piece=▁소재로\n",
      "bpe_model_trainer.cc(258) LOG(INFO) Added: freq=94 size=3100 all=282836 active=16920 piece=▁빠져들\n",
      "bpe_model_trainer.cc(167) LOG(INFO) Updating active symbols. max_freq=94 min_freq=14\n",
      "bpe_model_trainer.cc(258) LOG(INFO) Added: freq=93 size=3120 all=283676 active=14964 piece=▁반개도\n",
      "bpe_model_trainer.cc(258) LOG(INFO) Added: freq=92 size=3140 all=284385 active=15673 piece=없네요\n",
      "bpe_model_trainer.cc(258) LOG(INFO) Added: freq=91 size=3160 all=284931 active=16219 piece=▁제로\n",
      "bpe_model_trainer.cc(258) LOG(INFO) Added: freq=90 size=3180 all=285257 active=16545 piece=나다\n",
      "bpe_model_trainer.cc(258) LOG(INFO) Added: freq=90 size=3200 all=285919 active=17207 piece=더라면\n",
      "bpe_model_trainer.cc(167) LOG(INFO) Updating active symbols. max_freq=90 min_freq=14\n",
      "bpe_model_trainer.cc(258) LOG(INFO) Added: freq=89 size=3220 all=286217 active=14558 piece=니당\n",
      "bpe_model_trainer.cc(258) LOG(INFO) Added: freq=89 size=3240 all=286827 active=15168 piece=▁좋아할\n",
      "bpe_model_trainer.cc(258) LOG(INFO) Added: freq=88 size=3260 all=287422 active=15763 piece=▁한참\n",
      "bpe_model_trainer.cc(258) LOG(INFO) Added: freq=87 size=3280 all=288013 active=16354 piece=▁기가\n",
      "bpe_model_trainer.cc(258) LOG(INFO) Added: freq=86 size=3300 all=288467 active=16808 piece=셔서\n",
      "bpe_model_trainer.cc(167) LOG(INFO) Updating active symbols. max_freq=86 min_freq=14\n",
      "bpe_model_trainer.cc(258) LOG(INFO) Added: freq=86 size=3320 all=288919 active=14856 piece=▁잊혀지지\n",
      "bpe_model_trainer.cc(258) LOG(INFO) Added: freq=85 size=3340 all=289524 active=15461 piece=끝까지\n",
      "bpe_model_trainer.cc(258) LOG(INFO) Added: freq=84 size=3360 all=290242 active=16179 piece=▁많다\n",
      "bpe_model_trainer.cc(258) LOG(INFO) Added: freq=83 size=3380 all=290609 active=16546 piece=▁쩝\n",
      "bpe_model_trainer.cc(258) LOG(INFO) Added: freq=83 size=3400 all=291091 active=17028 piece=▁있구나\n",
      "bpe_model_trainer.cc(167) LOG(INFO) Updating active symbols. max_freq=83 min_freq=14\n",
      "bpe_model_trainer.cc(258) LOG(INFO) Added: freq=82 size=3420 all=291912 active=15367 piece=▁낮네\n",
      "bpe_model_trainer.cc(258) LOG(INFO) Added: freq=81 size=3440 all=292369 active=15824 piece=부족\n",
      "bpe_model_trainer.cc(258) LOG(INFO) Added: freq=81 size=3460 all=293119 active=16574 piece=▁주말\n",
      "bpe_model_trainer.cc(258) LOG(INFO) Added: freq=81 size=3480 all=293515 active=16970 piece=▁좋아해서\n",
      "bpe_model_trainer.cc(258) LOG(INFO) Added: freq=80 size=3500 all=294389 active=17844 piece=▁인터\n",
      "bpe_model_trainer.cc(167) LOG(INFO) Updating active symbols. max_freq=80 min_freq=13\n",
      "bpe_model_trainer.cc(258) LOG(INFO) Added: freq=79 size=3520 all=294779 active=15104 piece=머리\n",
      "bpe_model_trainer.cc(258) LOG(INFO) Added: freq=79 size=3540 all=295227 active=15552 piece=▁잔인한\n",
      "bpe_model_trainer.cc(258) LOG(INFO) Added: freq=78 size=3560 all=295704 active=16029 piece=설정\n",
      "bpe_model_trainer.cc(258) LOG(INFO) Added: freq=78 size=3580 all=296174 active=16499 piece=▁패러디\n",
      "bpe_model_trainer.cc(258) LOG(INFO) Added: freq=77 size=3600 all=296801 active=17126 piece=▁남겨\n",
      "bpe_model_trainer.cc(167) LOG(INFO) Updating active symbols. max_freq=77 min_freq=13\n",
      "bpe_model_trainer.cc(258) LOG(INFO) Added: freq=77 size=3620 all=297062 active=15072 piece=▁이해하기\n",
      "bpe_model_trainer.cc(258) LOG(INFO) Added: freq=76 size=3640 all=297642 active=15652 piece=▁뭐라\n",
      "bpe_model_trainer.cc(258) LOG(INFO) Added: freq=76 size=3660 all=298118 active=16128 piece=▁우리의\n",
      "bpe_model_trainer.cc(258) LOG(INFO) Added: freq=75 size=3680 all=298784 active=16794 piece=▁도전\n",
      "bpe_model_trainer.cc(258) LOG(INFO) Added: freq=75 size=3700 all=299105 active=17115 piece=▁초반에\n",
      "bpe_model_trainer.cc(167) LOG(INFO) Updating active symbols. max_freq=75 min_freq=13\n",
      "bpe_model_trainer.cc(258) LOG(INFO) Added: freq=74 size=3720 all=299544 active=15391 piece=▁모험\n",
      "bpe_model_trainer.cc(258) LOG(INFO) Added: freq=74 size=3740 all=299956 active=15803 piece=▁한심한\n",
      "bpe_model_trainer.cc(258) LOG(INFO) Added: freq=73 size=3760 all=300360 active=16207 piece=소설\n",
      "bpe_model_trainer.cc(258) LOG(INFO) Added: freq=73 size=3780 all=300890 active=16737 piece=▁귀여워\n",
      "bpe_model_trainer.cc(258) LOG(INFO) Added: freq=72 size=3800 all=301131 active=16978 piece=▁옥\n",
      "bpe_model_trainer.cc(167) LOG(INFO) Updating active symbols. max_freq=72 min_freq=13\n",
      "bpe_model_trainer.cc(258) LOG(INFO) Added: freq=72 size=3820 all=301879 active=15783 piece=▁이민\n",
      "bpe_model_trainer.cc(258) LOG(INFO) Added: freq=72 size=3840 all=302215 active=16119 piece=▁좋아하는데\n",
      "bpe_model_trainer.cc(258) LOG(INFO) Added: freq=71 size=3860 all=302818 active=16722 piece=▁어두\n",
      "bpe_model_trainer.cc(258) LOG(INFO) Added: freq=71 size=3880 all=303094 active=16998 piece=▁행복한\n",
      "bpe_model_trainer.cc(258) LOG(INFO) Added: freq=70 size=3900 all=303515 active=17419 piece=치노\n",
      "bpe_model_trainer.cc(167) LOG(INFO) Updating active symbols. max_freq=70 min_freq=13\n",
      "bpe_model_trainer.cc(258) LOG(INFO) Added: freq=70 size=3920 all=303896 active=15538 piece=봤네요\n",
      "bpe_model_trainer.cc(258) LOG(INFO) Added: freq=69 size=3940 all=304125 active=15767 piece=▁칭\n",
      "bpe_model_trainer.cc(258) LOG(INFO) Added: freq=69 size=3960 all=304600 active=16242 piece=▁조절\n",
      "bpe_model_trainer.cc(258) LOG(INFO) Added: freq=69 size=3980 all=304974 active=16616 piece=▁짜임새\n",
      "bpe_model_trainer.cc(258) LOG(INFO) Added: freq=68 size=4000 all=305603 active=17245 piece=종일\n",
      "bpe_model_trainer.cc(167) LOG(INFO) Updating active symbols. max_freq=68 min_freq=12\n",
      "bpe_model_trainer.cc(258) LOG(INFO) Added: freq=68 size=4020 all=306018 active=15686 piece=▁인간이\n",
      "bpe_model_trainer.cc(258) LOG(INFO) Added: freq=67 size=4040 all=306657 active=16325 piece=출연\n",
      "bpe_model_trainer.cc(258) LOG(INFO) Added: freq=67 size=4060 all=307051 active=16719 piece=것같은\n",
      "bpe_model_trainer.cc(258) LOG(INFO) Added: freq=67 size=4080 all=307395 active=17063 piece=▁아까웠다\n",
      "bpe_model_trainer.cc(258) LOG(INFO) Added: freq=66 size=4100 all=307944 active=17612 piece=▁강력\n",
      "bpe_model_trainer.cc(167) LOG(INFO) Updating active symbols. max_freq=66 min_freq=12\n",
      "bpe_model_trainer.cc(258) LOG(INFO) Added: freq=66 size=4120 all=308311 active=15755 piece=적이지\n",
      "bpe_model_trainer.cc(258) LOG(INFO) Added: freq=66 size=4140 all=308460 active=15904 piece=▁클레멘타\n",
      "bpe_model_trainer.cc(258) LOG(INFO) Added: freq=65 size=4160 all=309207 active=16651 piece=▁사진\n",
      "bpe_model_trainer.cc(258) LOG(INFO) Added: freq=65 size=4180 all=309700 active=17144 piece=▁이상의\n",
      "bpe_model_trainer.cc(258) LOG(INFO) Added: freq=64 size=4200 all=310050 active=17494 piece=▁남은\n",
      "bpe_model_trainer.cc(167) LOG(INFO) Updating active symbols. max_freq=64 min_freq=12\n",
      "bpe_model_trainer.cc(258) LOG(INFO) Added: freq=64 size=4220 all=310469 active=15912 piece=최악의\n",
      "bpe_model_trainer.cc(258) LOG(INFO) Added: freq=64 size=4240 all=310709 active=16152 piece=▁이런영화는\n",
      "bpe_model_trainer.cc(258) LOG(INFO) Added: freq=63 size=4260 all=311405 active=16848 piece=▁년작\n",
      "bpe_model_trainer.cc(258) LOG(INFO) Added: freq=63 size=4280 all=311716 active=17159 piece=▁막판에\n",
      "bpe_model_trainer.cc(258) LOG(INFO) Added: freq=63 size=4300 all=311994 active=17437 piece=▁이상하게\n",
      "bpe_model_trainer.cc(167) LOG(INFO) Updating active symbols. max_freq=63 min_freq=12\n",
      "bpe_model_trainer.cc(258) LOG(INFO) Added: freq=62 size=4320 all=312506 active=16109 piece=▁말았\n",
      "bpe_model_trainer.cc(258) LOG(INFO) Added: freq=62 size=4340 all=312851 active=16454 piece=▁새벽에\n",
      "bpe_model_trainer.cc(258) LOG(INFO) Added: freq=62 size=4360 all=313015 active=16618 piece=▁태어나서\n",
      "bpe_model_trainer.cc(258) LOG(INFO) Added: freq=61 size=4380 all=313649 active=17252 piece=없게\n",
      "bpe_model_trainer.cc(258) LOG(INFO) Added: freq=61 size=4400 all=314119 active=17722 piece=좋았다\n",
      "bpe_model_trainer.cc(167) LOG(INFO) Updating active symbols. max_freq=61 min_freq=12\n",
      "bpe_model_trainer.cc(258) LOG(INFO) Added: freq=60 size=4420 all=314444 active=15986 piece=동생\n",
      "bpe_model_trainer.cc(258) LOG(INFO) Added: freq=60 size=4440 all=314898 active=16440 piece=▁상관\n",
      "bpe_model_trainer.cc(258) LOG(INFO) Added: freq=60 size=4460 all=315141 active=16683 piece=▁없었음\n",
      "bpe_model_trainer.cc(258) LOG(INFO) Added: freq=59 size=4480 all=315470 active=17012 piece=얘기\n",
      "bpe_model_trainer.cc(258) LOG(INFO) Added: freq=59 size=4500 all=316076 active=17618 piece=▁소피\n",
      "bpe_model_trainer.cc(167) LOG(INFO) Updating active symbols. max_freq=59 min_freq=12\n",
      "bpe_model_trainer.cc(258) LOG(INFO) Added: freq=59 size=4520 all=316442 active=16165 piece=▁정도면\n",
      "bpe_model_trainer.cc(258) LOG(INFO) Added: freq=58 size=4540 all=316643 active=16366 piece=느껴\n",
      "bpe_model_trainer.cc(258) LOG(INFO) Added: freq=58 size=4560 all=317399 active=17122 piece=▁낮아\n",
      "bpe_model_trainer.cc(258) LOG(INFO) Added: freq=58 size=4580 all=317716 active=17439 piece=▁다양한\n",
      "bpe_model_trainer.cc(258) LOG(INFO) Added: freq=58 size=4600 all=317980 active=17703 piece=▁할리우드\n",
      "bpe_model_trainer.cc(167) LOG(INFO) Updating active symbols. max_freq=58 min_freq=11\n",
      "bpe_model_trainer.cc(258) LOG(INFO) Added: freq=57 size=4620 all=318550 active=16453 piece=정한\n",
      "bpe_model_trainer.cc(258) LOG(INFO) Added: freq=57 size=4640 all=319037 active=16940 piece=재미도\n",
      "bpe_model_trainer.cc(258) LOG(INFO) Added: freq=57 size=4660 all=319195 active=17098 piece=영화입니다\n",
      "bpe_model_trainer.cc(258) LOG(INFO) Added: freq=56 size=4680 all=319872 active=17775 piece=팩트\n",
      "bpe_model_trainer.cc(258) LOG(INFO) Added: freq=56 size=4700 all=320294 active=18197 piece=▁나오네\n",
      "bpe_model_trainer.cc(167) LOG(INFO) Updating active symbols. max_freq=56 min_freq=11\n",
      "bpe_model_trainer.cc(258) LOG(INFO) Added: freq=56 size=4720 all=320442 active=16157 piece=▁주인공은\n",
      "bpe_model_trainer.cc(258) LOG(INFO) Added: freq=55 size=4740 all=321022 active=16737 piece=오브\n",
      "bpe_model_trainer.cc(258) LOG(INFO) Added: freq=55 size=4760 all=321632 active=17347 piece=▁적절\n",
      "bpe_model_trainer.cc(258) LOG(INFO) Added: freq=55 size=4780 all=322091 active=17806 piece=▁안간다\n",
      "bpe_model_trainer.cc(258) LOG(INFO) Added: freq=55 size=4800 all=322257 active=17972 piece=▁짜증나서\n",
      "bpe_model_trainer.cc(167) LOG(INFO) Updating active symbols. max_freq=55 min_freq=11\n",
      "bpe_model_trainer.cc(258) LOG(INFO) Added: freq=54 size=4820 all=322947 active=16800 piece=향을\n",
      "bpe_model_trainer.cc(258) LOG(INFO) Added: freq=54 size=4840 all=323151 active=17004 piece=▁이수\n",
      "bpe_model_trainer.cc(258) LOG(INFO) Added: freq=54 size=4860 all=323490 active=17343 piece=▁배트맨\n",
      "bpe_model_trainer.cc(258) LOG(INFO) Added: freq=54 size=4880 all=323683 active=17536 piece=▁어울리는\n",
      "bpe_model_trainer.cc(258) LOG(INFO) Added: freq=53 size=4900 all=324176 active=18029 piece=슨이\n",
      "bpe_model_trainer.cc(167) LOG(INFO) Updating active symbols. max_freq=53 min_freq=11\n",
      "bpe_model_trainer.cc(258) LOG(INFO) Added: freq=53 size=4920 all=324709 active=16715 piece=▁생에\n",
      "bpe_model_trainer.cc(258) LOG(INFO) Added: freq=53 size=4940 all=325013 active=17019 piece=▁불쌍한\n",
      "bpe_model_trainer.cc(258) LOG(INFO) Added: freq=53 size=4960 all=325189 active=17195 piece=▁뱀파이어\n",
      "bpe_model_trainer.cc(258) LOG(INFO) Added: freq=52 size=4980 all=325584 active=17590 piece=버릴\n",
      "bpe_model_trainer.cc(258) LOG(INFO) Added: freq=52 size=5000 all=326148 active=18154 piece=▁다루\n",
      "bpe_model_trainer.cc(167) LOG(INFO) Updating active symbols. max_freq=52 min_freq=11\n",
      "bpe_model_trainer.cc(258) LOG(INFO) Added: freq=52 size=5020 all=326404 active=16541 piece=내용은\n",
      "bpe_model_trainer.cc(258) LOG(INFO) Added: freq=52 size=5040 all=326751 active=16888 piece=▁이소룡\n",
      "bpe_model_trainer.cc(258) LOG(INFO) Added: freq=51 size=5060 all=326930 active=17067 piece=▁곧\n",
      "bpe_model_trainer.cc(258) LOG(INFO) Added: freq=51 size=5080 all=327535 active=17672 piece=없나\n",
      "bpe_model_trainer.cc(258) LOG(INFO) Added: freq=51 size=5100 all=327839 active=17976 piece=▁있던\n",
      "bpe_model_trainer.cc(167) LOG(INFO) Updating active symbols. max_freq=51 min_freq=11\n",
      "bpe_model_trainer.cc(258) LOG(INFO) Added: freq=51 size=5120 all=328204 active=16750 piece=▁봅니다\n",
      "bpe_model_trainer.cc(258) LOG(INFO) Added: freq=51 size=5140 all=328398 active=16944 piece=▁아쉬움이\n",
      "bpe_model_trainer.cc(258) LOG(INFO) Added: freq=50 size=5160 all=328692 active=17238 piece=만족\n",
      "bpe_model_trainer.cc(258) LOG(INFO) Added: freq=50 size=5180 all=329335 active=17881 piece=▁데뷔\n",
      "bpe_model_trainer.cc(258) LOG(INFO) Added: freq=50 size=5200 all=329582 active=18128 piece=▁테이\n",
      "bpe_model_trainer.cc(167) LOG(INFO) Updating active symbols. max_freq=50 min_freq=11\n",
      "bpe_model_trainer.cc(258) LOG(INFO) Added: freq=50 size=5220 all=329914 active=16808 piece=▁살렸다\n",
      "bpe_model_trainer.cc(258) LOG(INFO) Added: freq=50 size=5240 all=329990 active=16884 piece=▁최고네요\n",
      "bpe_model_trainer.cc(258) LOG(INFO) Added: freq=49 size=5260 all=330494 active=17388 piece=유리\n",
      "bpe_model_trainer.cc(258) LOG(INFO) Added: freq=49 size=5280 all=331073 active=17967 piece=▁않나\n",
      "bpe_model_trainer.cc(258) LOG(INFO) Added: freq=49 size=5300 all=331425 active=18319 piece=답니다\n",
      "bpe_model_trainer.cc(167) LOG(INFO) Updating active symbols. max_freq=49 min_freq=10\n",
      "bpe_model_trainer.cc(258) LOG(INFO) Added: freq=49 size=5320 all=331696 active=16809 piece=▁웃었다\n",
      "bpe_model_trainer.cc(258) LOG(INFO) Added: freq=48 size=5340 all=331837 active=16950 piece=▁덴\n",
      "bpe_model_trainer.cc(258) LOG(INFO) Added: freq=48 size=5360 all=332314 active=17427 piece=▁벗어\n",
      "bpe_model_trainer.cc(258) LOG(INFO) Added: freq=48 size=5380 all=332657 active=17770 piece=했으나\n",
      "bpe_model_trainer.cc(258) LOG(INFO) Added: freq=48 size=5400 all=332823 active=17936 piece=▁조금은\n",
      "bpe_model_trainer.cc(167) LOG(INFO) Updating active symbols. max_freq=48 min_freq=10\n",
      "bpe_model_trainer.cc(258) LOG(INFO) Added: freq=47 size=5420 all=333061 active=16880 piece=▁쪼\n",
      "bpe_model_trainer.cc(258) LOG(INFO) Added: freq=47 size=5440 all=333601 active=17420 piece=▁기타\n",
      "bpe_model_trainer.cc(258) LOG(INFO) Added: freq=47 size=5460 all=333930 active=17749 piece=들끼리\n",
      "bpe_model_trainer.cc(258) LOG(INFO) Added: freq=47 size=5480 all=334225 active=18044 piece=▁손가락\n",
      "bpe_model_trainer.cc(258) LOG(INFO) Added: freq=47 size=5500 all=334403 active=18222 piece=▁아이디어\n",
      "bpe_model_trainer.cc(167) LOG(INFO) Updating active symbols. max_freq=47 min_freq=10\n",
      "bpe_model_trainer.cc(258) LOG(INFO) Added: freq=46 size=5520 all=334595 active=16901 piece=▁앨\n",
      "bpe_model_trainer.cc(258) LOG(INFO) Added: freq=46 size=5540 all=335233 active=17539 piece=▁ᄌᄂ\n",
      "bpe_model_trainer.cc(258) LOG(INFO) Added: freq=46 size=5560 all=335457 active=17763 piece=▁예측\n",
      "bpe_model_trainer.cc(258) LOG(INFO) Added: freq=46 size=5580 all=335864 active=18170 piece=신분들\n",
      "bpe_model_trainer.cc(258) LOG(INFO) Added: freq=46 size=5600 all=336089 active=18395 piece=▁없으면\n",
      "bpe_model_trainer.cc(167) LOG(INFO) Updating active symbols. max_freq=46 min_freq=10\n",
      "bpe_model_trainer.cc(258) LOG(INFO) Added: freq=46 size=5620 all=336217 active=16931 piece=▁충격적이\n",
      "bpe_model_trainer.cc(258) LOG(INFO) Added: freq=45 size=5640 all=336568 active=17282 piece=버츠\n",
      "bpe_model_trainer.cc(258) LOG(INFO) Added: freq=45 size=5660 all=337067 active=17781 piece=▁몰라\n",
      "bpe_model_trainer.cc(258) LOG(INFO) Added: freq=45 size=5680 all=337385 active=18099 piece=하하하\n",
      "bpe_model_trainer.cc(258) LOG(INFO) Added: freq=45 size=5700 all=337560 active=18274 piece=▁괜찮네요\n",
      "bpe_model_trainer.cc(167) LOG(INFO) Updating active symbols. max_freq=45 min_freq=10\n",
      "bpe_model_trainer.cc(258) LOG(INFO) Added: freq=45 size=5720 all=337644 active=16958 piece=▁지루하기\n",
      "bpe_model_trainer.cc(258) LOG(INFO) Added: freq=44 size=5740 all=338126 active=17440 piece=차별\n",
      "bpe_model_trainer.cc(258) LOG(INFO) Added: freq=44 size=5760 all=338485 active=17799 piece=▁생긴\n",
      "bpe_model_trainer.cc(258) LOG(INFO) Added: freq=44 size=5780 all=338846 active=18160 piece=라이즈\n",
      "bpe_model_trainer.cc(258) LOG(INFO) Added: freq=44 size=5800 all=339158 active=18472 piece=▁시간은\n",
      "bpe_model_trainer.cc(167) LOG(INFO) Updating active symbols. max_freq=44 min_freq=10\n",
      "bpe_model_trainer.cc(258) LOG(INFO) Added: freq=44 size=5820 all=339339 active=17137 piece=▁아이들의\n",
      "bpe_model_trainer.cc(258) LOG(INFO) Added: freq=43 size=5840 all=339561 active=17359 piece=렸네\n",
      "bpe_model_trainer.cc(258) LOG(INFO) Added: freq=43 size=5860 all=340135 active=17933 piece=하늘\n",
      "bpe_model_trainer.cc(258) LOG(INFO) Added: freq=43 size=5880 all=340409 active=18206 piece=▁쏟아\n",
      "bpe_model_trainer.cc(258) LOG(INFO) Added: freq=43 size=5900 all=340769 active=18566 piece=었다고\n",
      "bpe_model_trainer.cc(167) LOG(INFO) Updating active symbols. max_freq=43 min_freq=10\n",
      "bpe_model_trainer.cc(258) LOG(INFO) Added: freq=43 size=5920 all=341029 active=17265 piece=▁어두운\n",
      "bpe_model_trainer.cc(258) LOG(INFO) Added: freq=43 size=5940 all=341198 active=17434 piece=▁연기력에\n",
      "bpe_model_trainer.cc(258) LOG(INFO) Added: freq=42 size=5960 all=341577 active=17813 piece=받을\n",
      "bpe_model_trainer.cc(258) LOG(INFO) Added: freq=42 size=5980 all=342282 active=18518 piece=형제\n",
      "bpe_model_trainer.cc(258) LOG(INFO) Added: freq=42 size=6000 all=342524 active=18760 piece=▁줄수\n",
      "bpe_model_trainer.cc(167) LOG(INFO) Updating active symbols. max_freq=42 min_freq=10\n",
      "bpe_model_trainer.cc(258) LOG(INFO) Added: freq=42 size=6020 all=342880 active=17476 piece=▁무거운\n",
      "bpe_model_trainer.cc(258) LOG(INFO) Added: freq=42 size=6040 all=342968 active=17564 piece=▁음악은\n",
      "bpe_model_trainer.cc(258) LOG(INFO) Added: freq=42 size=6060 all=343161 active=17757 piece=▁좀비영화\n",
      "bpe_model_trainer.cc(258) LOG(INFO) Added: freq=41 size=6080 all=343519 active=18115 piece=분은\n",
      "bpe_model_trainer.cc(258) LOG(INFO) Added: freq=41 size=6100 all=344176 active=18772 piece=▁고뇌\n",
      "bpe_model_trainer.cc(167) LOG(INFO) Updating active symbols. max_freq=41 min_freq=9\n",
      "bpe_model_trainer.cc(258) LOG(INFO) Added: freq=41 size=6120 all=344361 active=17384 piece=▁왠만\n",
      "bpe_model_trainer.cc(258) LOG(INFO) Added: freq=41 size=6140 all=344640 active=17663 piece=재밌고\n",
      "bpe_model_trainer.cc(258) LOG(INFO) Added: freq=41 size=6160 all=344835 active=17858 piece=▁에라이\n",
      "bpe_model_trainer.cc(258) LOG(INFO) Added: freq=41 size=6180 all=344946 active=17969 piece=▁리얼리티\n",
      "bpe_model_trainer.cc(258) LOG(INFO) Added: freq=41 size=6200 all=345033 active=18056 piece=▁하나하나가\n",
      "bpe_model_trainer.cc(167) LOG(INFO) Updating active symbols. max_freq=40 min_freq=9\n",
      "bpe_model_trainer.cc(258) LOG(INFO) Added: freq=40 size=6220 all=345606 active=17825 piece=쓰는\n",
      "bpe_model_trainer.cc(258) LOG(INFO) Added: freq=40 size=6240 all=345911 active=18130 piece=▁매주\n",
      "bpe_model_trainer.cc(258) LOG(INFO) Added: freq=40 size=6260 all=346094 active=18313 piece=▁판타\n",
      "bpe_model_trainer.cc(258) LOG(INFO) Added: freq=40 size=6280 all=346563 active=18782 piece=▁보기가\n",
      "bpe_model_trainer.cc(258) LOG(INFO) Added: freq=40 size=6300 all=346708 active=18927 piece=▁고등학교\n",
      "bpe_model_trainer.cc(167) LOG(INFO) Updating active symbols. max_freq=40 min_freq=9\n",
      "bpe_model_trainer.cc(258) LOG(INFO) Added: freq=40 size=6320 all=346786 active=17406 piece=▁모르겠네요\n",
      "bpe_model_trainer.cc(258) LOG(INFO) Added: freq=39 size=6340 all=347191 active=17811 piece=되요\n",
      "bpe_model_trainer.cc(258) LOG(INFO) Added: freq=39 size=6360 all=347858 active=18478 piece=지나\n",
      "bpe_model_trainer.cc(258) LOG(INFO) Added: freq=39 size=6380 all=348221 active=18841 piece=▁받는\n",
      "bpe_model_trainer.cc(258) LOG(INFO) Added: freq=39 size=6400 all=348543 active=19162 piece=시네요\n",
      "bpe_model_trainer.cc(167) LOG(INFO) Updating active symbols. max_freq=39 min_freq=9\n",
      "bpe_model_trainer.cc(258) LOG(INFO) Added: freq=39 size=6420 all=348924 active=17783 piece=▁미소가\n",
      "trainer_interface.cc(685) LOG(INFO) Saving model: naver_korean_spm02.model\n",
      "trainer_interface.cc(697) LOG(INFO) Saving vocabs: naver_korean_spm02.vocab\n"
     ]
    }
   ],
   "source": [
    "# Sentencepiece BPE(Byte Pair Encoding) #\n",
    "temp_file = '/mnt/disk2/modoo-nlp/sp_tokenizer/data/korean-english-park.train.ko.temp'\n",
    "\n",
    "vocab_size = 8000\n",
    "\n",
    "with open(temp_file, 'w') as f:\n",
    "    for row in filtered_corpus:   # 이전 스텝에서 정제했던 corpus를 활용합니다.\n",
    "        f.write(str(row) + '\\n')\n",
    "\n",
    "spm.SentencePieceTrainer.Train(\n",
    "    '--input={} --model_prefix=naver_korean_spm02 --model_type=bpe --vocab_size={}'.format(temp_file, vocab_size)    \n",
    ")\n",
    "#위 Train에서  --model_type = 'unigram'이 디폴트 적용되어 있습니다. --model_type = 'bpe' 로 옵션을 주어 변경할 수 있습니다.\n",
    "\n",
    "print('done')"
   ]
  },
  {
   "cell_type": "code",
   "execution_count": 28,
   "id": "808084c4-6c5f-47b7-b527-1e562bcc0b6c",
   "metadata": {},
   "outputs": [
    {
     "name": "stdout",
     "output_type": "stream",
     "text": [
      "-rw-rw-r-- 1 ubuntu ubuntu 373736 Oct 19 08:27 naver_korean_spm02.model\n",
      "-rw-rw-r-- 1 ubuntu ubuntu 118928 Oct 19 08:27 naver_korean_spm02.vocab\n"
     ]
    }
   ],
   "source": [
    "!ls -l naver_korean_spm02*"
   ]
  },
  {
   "cell_type": "markdown",
   "id": "4e6f3ece-81b0-4b18-8788-76651f567ebc",
   "metadata": {},
   "source": [
    "#### 2. 학습된 모델로 sp_tokenize() 메소드 구현하기"
   ]
  },
  {
   "cell_type": "code",
   "execution_count": 29,
   "id": "d402f9dc-9ad1-434d-b519-8cd54eff802c",
   "metadata": {},
   "outputs": [],
   "source": [
    "# tokenize unigram #\n",
    "def sp_tokenize_unigram(s, corpus):\n",
    "\n",
    "    tensor = []\n",
    "\n",
    "    for sen in corpus:\n",
    "        tensor.append(s.EncodeAsIds(sen))\n",
    "\n",
    "    with open(\"./naver_korean_spm01.vocab\", 'r') as f:\n",
    "        vocab = f.readlines()\n",
    "\n",
    "    word_index = {}\n",
    "    index_word = {}\n",
    "\n",
    "    for idx, line in enumerate(vocab):\n",
    "        word = line.split(\"\\t\")[0]\n",
    "\n",
    "        word_index.update({word:idx})\n",
    "        index_word.update({idx:word})\n",
    "    # 패딩을 하였다.\n",
    "    \n",
    "    # padding='pre' 은 패딩할때 앞단에 0을 넣어주는 방식이다.\n",
    "    tensor = tf.keras.preprocessing.sequence.pad_sequences(tensor, padding='pre')\n",
    "    \n",
    "    return tensor, word_index, index_word"
   ]
  },
  {
   "cell_type": "code",
   "execution_count": 30,
   "id": "0628fadd-9e40-43fb-9b3f-a707860cdd90",
   "metadata": {},
   "outputs": [],
   "source": [
    "# tokenize bpe #\n",
    "def sp_tokenize_bpe(s, corpus):\n",
    "\n",
    "    tensor = []\n",
    "\n",
    "    for sen in corpus:\n",
    "        tensor.append(s.EncodeAsIds(sen))\n",
    "   \n",
    "    with open(\"./naver_korean_spm02.vocab\", 'r') as f:\n",
    "        vocab = f.readlines()\n",
    "    \n",
    "    word_index = {}\n",
    "    index_word = {}\n",
    "\n",
    "    for idx, line in enumerate(vocab):\n",
    "        word = line.split(\"\\t\")[0]\n",
    "\n",
    "        word_index.update({word:idx})\n",
    "        index_word.update({idx:word})\n",
    "    # 패딩을 하였다.\n",
    "    \n",
    "    # padding='pre' 은 패딩할때 앞단에 0을 넣어주는 방식이다.\n",
    "    tensor = tf.keras.preprocessing.sequence.pad_sequences(tensor, padding='pre')\n",
    "    \n",
    "    return tensor, word_index, index_word"
   ]
  },
  {
   "cell_type": "markdown",
   "id": "9f0116bf-931a-4b7e-b05f-4a8d8fd94a4a",
   "metadata": {},
   "source": [
    "#### 3. 구현된 토크나이저를 적용하여 네이버 영화리뷰 감정 분석 모델을 재학습하기"
   ]
  },
  {
   "cell_type": "code",
   "execution_count": 31,
   "id": "12dbc915-f3fe-4c5e-9eee-a87a629d6c25",
   "metadata": {},
   "outputs": [
    {
     "data": {
      "text/plain": [
       "True"
      ]
     },
     "execution_count": 31,
     "metadata": {},
     "output_type": "execute_result"
    }
   ],
   "source": [
    "# unigram #\n",
    "s_unigram = spm.SentencePieceProcessor()\n",
    "s_unigram.Load('naver_korean_spm01.model')"
   ]
  },
  {
   "cell_type": "code",
   "execution_count": 32,
   "id": "b6de470f-1870-4b9f-9cda-05944080a1f4",
   "metadata": {},
   "outputs": [],
   "source": [
    "def load_data_unigram(train_data, test_data, stpiece_model):\n",
    "    sentences =[]\n",
    "    train_data.drop_duplicates(subset=['document'], inplace=True)\n",
    "    train_data = train_data.dropna(how = 'any') \n",
    "\n",
    "    test_data.drop_duplicates(subset=['document'], inplace=True)\n",
    "    test_data = test_data.dropna(how = 'any') \n",
    "\n",
    "    #train데이터 토큰화\n",
    "    sentences = train_data['document'] \n",
    "    # unigram\n",
    "    tensor, word_index, index_word = sp_tokenize_unigram(s_unigram, sentences)\n",
    "    \n",
    "    #train문장데이터를 수치화로 표현화한 리스트\n",
    "    X_train = []\n",
    "    ## 수치화된 문장(텐서)를 리스트(sentences_index)에 넣어준다. \n",
    "    for array in tensor:\n",
    "        X_train.append(array)\n",
    "        \n",
    "    #test데이터 토큰화\n",
    "    sentences = test_data['document']\n",
    "    # unigram\n",
    "    tensor, word_index, index_word = sp_tokenize_unigram(s_unigram, sentences)\n",
    "    \n",
    "    # test문장데이터를 수치화로 표현화한 리스트\n",
    "    X_test = []\n",
    "    for array in tensor:\n",
    "        X_test.append(array)\n",
    "        \n",
    "    X_train = np.asarray(X_train)\n",
    "    X_test = np.asarray(X_test)\n",
    "    \n",
    "    return X_train, np.array(list(train_data['label'])), X_test, np.array(list(test_data['label'])), word_index"
   ]
  },
  {
   "cell_type": "code",
   "execution_count": 33,
   "id": "2a05c37e-5ed4-4fe5-ae33-25b450718ea9",
   "metadata": {},
   "outputs": [
    {
     "data": {
      "text/plain": [
       "True"
      ]
     },
     "execution_count": 33,
     "metadata": {},
     "output_type": "execute_result"
    }
   ],
   "source": [
    "# bpe #\n",
    "s_bpe = spm.SentencePieceProcessor()\n",
    "s_bpe.Load('naver_korean_spm02.model')"
   ]
  },
  {
   "cell_type": "code",
   "execution_count": 34,
   "id": "2b053475-2c98-4ad2-a10e-9bfab7a21412",
   "metadata": {},
   "outputs": [],
   "source": [
    "def load_data_bpe(train_data, test_data, stpiece_model):\n",
    "    sentences =[]\n",
    "    train_data.drop_duplicates(subset=['document'], inplace=True)\n",
    "    train_data = train_data.dropna(how = 'any') \n",
    "\n",
    "    test_data.drop_duplicates(subset=['document'], inplace=True)\n",
    "    test_data = test_data.dropna(how = 'any') \n",
    "\n",
    "    #train데이터 토큰화\n",
    "    sentences = train_data['document'] \n",
    "    # BPE\n",
    "    tensor, word_index, index_word = sp_tokenize_bpe(s_bpe, sentences)\n",
    "    \n",
    "    #train문장데이터를 수치화로 표현화한 리스트\n",
    "    X_train = []\n",
    "    ## 수치화된 문장(텐서)를 리스트(sentences_index)에 넣어준다. \n",
    "    for array in tensor:\n",
    "        X_train.append(array)\n",
    "        \n",
    "    #test데이터 토큰화\n",
    "    sentences = test_data['document']\n",
    "    # bpe\n",
    "    tensor, word_index, index_word = sp_tokenize_bpe(s_bpe, sentences)\n",
    "    \n",
    "    # test문장데이터를 수치화로 표현화한 리스트\n",
    "    X_test = []\n",
    "    for array in tensor:\n",
    "        X_test.append(array)\n",
    "        \n",
    "    X_train = np.asarray(X_train)\n",
    "    X_test = np.asarray(X_test)\n",
    "    \n",
    "    return X_train, np.array(list(train_data['label'])), X_test, np.array(list(test_data['label'])), word_index"
   ]
  },
  {
   "cell_type": "code",
   "execution_count": 35,
   "id": "17e24274-0060-4037-8577-09566926ffd0",
   "metadata": {},
   "outputs": [],
   "source": [
    "#unigram\n",
    "X_train, y_train, X_test, y_test, word_to_index = load_data_unigram(train_data, test_data,0)"
   ]
  },
  {
   "cell_type": "code",
   "execution_count": 36,
   "id": "b1ab1715-fbc9-4f7e-bd0a-5c0b64ee99e8",
   "metadata": {},
   "outputs": [],
   "source": [
    "# bpe\n",
    "X_train_, y_train_, X_test_, y_test_, word_to_index_ = load_data_bpe(train_data, test_data,1)"
   ]
  },
  {
   "cell_type": "code",
   "execution_count": 37,
   "id": "3af580a7-d1f0-46c3-b0b3-6a7128971c13",
   "metadata": {},
   "outputs": [
    {
     "name": "stdout",
     "output_type": "stream",
     "text": [
      "(143620, 133)\n",
      "(143620, 111)\n"
     ]
    }
   ],
   "source": [
    "print(X_train.shape)\n",
    "print(X_train_.shape)"
   ]
  },
  {
   "cell_type": "code",
   "execution_count": 38,
   "id": "ece46b5f-68a3-4b13-ba72-8e005daa0d86",
   "metadata": {},
   "outputs": [
    {
     "name": "stdout",
     "output_type": "stream",
     "text": [
      "(143620, 133)\n",
      "(143620,)\n",
      "(133620, 133)\n",
      "(133620,)\n"
     ]
    }
   ],
   "source": [
    "# 데이터셋 나누기\n",
    "\n",
    "# validation set 10000건 분리\n",
    "X_val = X_train[:10000]   \n",
    "y_val = y_train[:10000]\n",
    "\n",
    "# validation set을 제외한 나머지 15000건\n",
    "partial_X_train = X_train[10000:]  \n",
    "partial_y_train = y_train[10000:]\n",
    "\n",
    "print(X_train.shape)\n",
    "print(y_train.shape)\n",
    "print(partial_X_train.shape)\n",
    "print(partial_y_train.shape)"
   ]
  },
  {
   "cell_type": "markdown",
   "id": "dcdfc211-0108-4fff-b821-10936adc4653",
   "metadata": {},
   "source": [
    "#### 4. KoNLPy 형태소 분석기를 사용한 모델과 성능 비교하기"
   ]
  },
  {
   "cell_type": "code",
   "execution_count": 39,
   "id": "dc9eca66-e762-4c31-b3d2-1c62a6cf2517",
   "metadata": {},
   "outputs": [
    {
     "name": "stderr",
     "output_type": "stream",
     "text": [
      "2022-10-19 08:28:48.102026: I tensorflow/stream_executor/cuda/cuda_gpu_executor.cc:975] successful NUMA node read from SysFS had negative value (-1), but there must be at least one NUMA node, so returning NUMA node zero\n",
      "2022-10-19 08:28:48.288459: I tensorflow/stream_executor/cuda/cuda_gpu_executor.cc:975] successful NUMA node read from SysFS had negative value (-1), but there must be at least one NUMA node, so returning NUMA node zero\n",
      "2022-10-19 08:28:48.288729: I tensorflow/stream_executor/cuda/cuda_gpu_executor.cc:975] successful NUMA node read from SysFS had negative value (-1), but there must be at least one NUMA node, so returning NUMA node zero\n",
      "2022-10-19 08:28:48.291085: I tensorflow/core/platform/cpu_feature_guard.cc:193] This TensorFlow binary is optimized with oneAPI Deep Neural Network Library (oneDNN) to use the following CPU instructions in performance-critical operations:  AVX2 FMA\n",
      "To enable them in other operations, rebuild TensorFlow with the appropriate compiler flags.\n",
      "2022-10-19 08:28:48.292583: I tensorflow/stream_executor/cuda/cuda_gpu_executor.cc:975] successful NUMA node read from SysFS had negative value (-1), but there must be at least one NUMA node, so returning NUMA node zero\n",
      "2022-10-19 08:28:48.292809: I tensorflow/stream_executor/cuda/cuda_gpu_executor.cc:975] successful NUMA node read from SysFS had negative value (-1), but there must be at least one NUMA node, so returning NUMA node zero\n",
      "2022-10-19 08:28:48.293008: I tensorflow/stream_executor/cuda/cuda_gpu_executor.cc:975] successful NUMA node read from SysFS had negative value (-1), but there must be at least one NUMA node, so returning NUMA node zero\n",
      "2022-10-19 08:28:50.199369: I tensorflow/stream_executor/cuda/cuda_gpu_executor.cc:975] successful NUMA node read from SysFS had negative value (-1), but there must be at least one NUMA node, so returning NUMA node zero\n",
      "2022-10-19 08:28:50.199622: I tensorflow/stream_executor/cuda/cuda_gpu_executor.cc:975] successful NUMA node read from SysFS had negative value (-1), but there must be at least one NUMA node, so returning NUMA node zero\n",
      "2022-10-19 08:28:50.199834: I tensorflow/stream_executor/cuda/cuda_gpu_executor.cc:975] successful NUMA node read from SysFS had negative value (-1), but there must be at least one NUMA node, so returning NUMA node zero\n",
      "2022-10-19 08:28:50.200009: I tensorflow/core/common_runtime/gpu/gpu_device.cc:1532] Created device /job:localhost/replica:0/task:0/device:GPU:0 with 14638 MB memory:  -> device: 0, name: Tesla V100-SXM2-16GB, pci bus id: 0000:00:1e.0, compute capability: 7.0\n"
     ]
    },
    {
     "name": "stdout",
     "output_type": "stream",
     "text": [
      "Model: \"sequential\"\n",
      "_________________________________________________________________\n",
      " Layer (type)                Output Shape              Param #   \n",
      "=================================================================\n",
      " embedding (Embedding)       (None, None, 150)         1200000   \n",
      "                                                                 \n",
      " lstm (LSTM)                 (None, 150)               180600    \n",
      "                                                                 \n",
      " dense (Dense)               (None, 10)                1510      \n",
      "                                                                 \n",
      " dense_1 (Dense)             (None, 1)                 11        \n",
      "                                                                 \n",
      "=================================================================\n",
      "Total params: 1,382,121\n",
      "Trainable params: 1,382,121\n",
      "Non-trainable params: 0\n",
      "_________________________________________________________________\n"
     ]
    }
   ],
   "source": [
    "# 모델 설계 및 LSTM 모델 사용\n",
    "\n",
    "vocab_size = 8000    # 어휘 사전의 크기입니다(8,000개의 단어)\n",
    "word_vector_dim = 150  # 워드 벡터의 차원수 (변경가능한 하이퍼파라미터)\n",
    "\n",
    "\n",
    "#LSTM\n",
    "model = keras.Sequential()\n",
    "model.add(Embedding(vocab_size, word_vector_dim, input_shape=(None,)))\n",
    "model.add(LSTM(word_vector_dim))   # 가장 널리 쓰이는 RNN인 LSTM 레이어\n",
    "model.add(Dense(10, activation='relu'))\n",
    "model.add(Dense(1, activation='sigmoid')) \n",
    "model.summary()"
   ]
  },
  {
   "cell_type": "code",
   "execution_count": 41,
   "id": "f18a0cdb-41ed-4662-9616-db1452ffe358",
   "metadata": {},
   "outputs": [
    {
     "name": "stdout",
     "output_type": "stream",
     "text": [
      "Epoch 1/10\n",
      "261/261 - 7s - loss: 0.2824 - accuracy: 0.8785 - val_loss: 0.3124 - val_accuracy: 0.8631 - 7s/epoch - 25ms/step\n",
      "Epoch 2/10\n",
      "261/261 - 4s - loss: 0.2644 - accuracy: 0.8863 - val_loss: 0.3140 - val_accuracy: 0.8647 - 4s/epoch - 16ms/step\n",
      "Epoch 3/10\n",
      "261/261 - 4s - loss: 0.2480 - accuracy: 0.8943 - val_loss: 0.3190 - val_accuracy: 0.8650 - 4s/epoch - 16ms/step\n",
      "Epoch 4/10\n",
      "261/261 - 4s - loss: 0.2304 - accuracy: 0.9027 - val_loss: 0.3289 - val_accuracy: 0.8623 - 4s/epoch - 16ms/step\n",
      "Epoch 5/10\n",
      "261/261 - 4s - loss: 0.2113 - accuracy: 0.9126 - val_loss: 0.3459 - val_accuracy: 0.8579 - 4s/epoch - 16ms/step\n",
      "Epoch 6/10\n",
      "261/261 - 4s - loss: 0.1900 - accuracy: 0.9224 - val_loss: 0.3801 - val_accuracy: 0.8565 - 4s/epoch - 16ms/step\n",
      "Epoch 7/10\n",
      "261/261 - 4s - loss: 0.1663 - accuracy: 0.9337 - val_loss: 0.4143 - val_accuracy: 0.8524 - 4s/epoch - 16ms/step\n",
      "Epoch 8/10\n",
      "261/261 - 4s - loss: 0.1414 - accuracy: 0.9454 - val_loss: 0.4602 - val_accuracy: 0.8486 - 4s/epoch - 16ms/step\n",
      "Epoch 9/10\n",
      "261/261 - 4s - loss: 0.1166 - accuracy: 0.9562 - val_loss: 0.5227 - val_accuracy: 0.8488 - 4s/epoch - 16ms/step\n",
      "Epoch 10/10\n",
      "261/261 - 4s - loss: 0.0930 - accuracy: 0.9658 - val_loss: 0.5968 - val_accuracy: 0.8446 - 4s/epoch - 16ms/step\n",
      "1513/1513 - 6s - loss: 0.6297 - accuracy: 0.8391 - 6s/epoch - 4ms/step\n",
      "[0.6297231316566467, 0.8390543460845947]\n"
     ]
    }
   ],
   "source": [
    "# Sentencepiece unigram\n",
    "# 모델 학습\n",
    "model.compile(optimizer='adam',\n",
    "              loss='binary_crossentropy',\n",
    "              metrics=['accuracy'])\n",
    "              \n",
    "epochs=10  # 몇 epoch를 훈련하면 좋을지 결과를 보면서 바꾸어 봅시다. \n",
    "\n",
    "history_model = model.fit(partial_X_train, partial_y_train,\n",
    "                          epochs=epochs,\n",
    "                          batch_size=512,\n",
    "                          validation_data=(X_val, y_val),\n",
    "                          verbose=2)\n",
    "\n",
    "#모델 테스트셋으로 평가\n",
    "results = model.evaluate(X_test,  y_test, verbose=2)\n",
    "print(results)"
   ]
  },
  {
   "cell_type": "code",
   "execution_count": 42,
   "id": "d9020fe1-0c91-456e-ad5a-79fa7b8551b4",
   "metadata": {},
   "outputs": [
    {
     "name": "stdout",
     "output_type": "stream",
     "text": [
      "(143620, 111)\n",
      "(143620,)\n",
      "(133620, 111)\n",
      "(133620,)\n",
      "Model: \"sequential_1\"\n",
      "_________________________________________________________________\n",
      " Layer (type)                Output Shape              Param #   \n",
      "=================================================================\n",
      " embedding_1 (Embedding)     (None, None, 150)         1200000   \n",
      "                                                                 \n",
      " lstm_1 (LSTM)               (None, 150)               180600    \n",
      "                                                                 \n",
      " dense_2 (Dense)             (None, 10)                1510      \n",
      "                                                                 \n",
      " dense_3 (Dense)             (None, 1)                 11        \n",
      "                                                                 \n",
      "=================================================================\n",
      "Total params: 1,382,121\n",
      "Trainable params: 1,382,121\n",
      "Non-trainable params: 0\n",
      "_________________________________________________________________\n",
      "Epoch 1/10\n",
      "261/261 - 6s - loss: 0.4514 - accuracy: 0.7893 - val_loss: 0.3489 - val_accuracy: 0.8491 - 6s/epoch - 23ms/step\n",
      "Epoch 2/10\n",
      "261/261 - 4s - loss: 0.3284 - accuracy: 0.8574 - val_loss: 0.3339 - val_accuracy: 0.8505 - 4s/epoch - 14ms/step\n",
      "Epoch 3/10\n",
      "261/261 - 4s - loss: 0.3029 - accuracy: 0.8687 - val_loss: 0.3354 - val_accuracy: 0.8514 - 4s/epoch - 14ms/step\n",
      "Epoch 4/10\n",
      "261/261 - 4s - loss: 0.2780 - accuracy: 0.8792 - val_loss: 0.3382 - val_accuracy: 0.8505 - 4s/epoch - 14ms/step\n",
      "Epoch 5/10\n",
      "261/261 - 4s - loss: 0.2567 - accuracy: 0.8880 - val_loss: 0.3559 - val_accuracy: 0.8525 - 4s/epoch - 14ms/step\n",
      "Epoch 6/10\n",
      "261/261 - 4s - loss: 0.2365 - accuracy: 0.8956 - val_loss: 0.3678 - val_accuracy: 0.8493 - 4s/epoch - 14ms/step\n",
      "Epoch 7/10\n",
      "261/261 - 4s - loss: 0.2164 - accuracy: 0.9050 - val_loss: 0.3907 - val_accuracy: 0.8508 - 4s/epoch - 14ms/step\n",
      "Epoch 8/10\n",
      "261/261 - 4s - loss: 0.1964 - accuracy: 0.9132 - val_loss: 0.4228 - val_accuracy: 0.8449 - 4s/epoch - 14ms/step\n",
      "Epoch 9/10\n",
      "261/261 - 4s - loss: 0.1796 - accuracy: 0.9198 - val_loss: 0.4403 - val_accuracy: 0.8401 - 4s/epoch - 14ms/step\n",
      "Epoch 10/10\n",
      "261/261 - 4s - loss: 0.1594 - accuracy: 0.9288 - val_loss: 0.4972 - val_accuracy: 0.8337 - 4s/epoch - 14ms/step\n",
      "1513/1513 - 6s - loss: 0.5115 - accuracy: 0.8323 - 6s/epoch - 4ms/step\n",
      "[0.5115118622779846, 0.8323172330856323]\n"
     ]
    }
   ],
   "source": [
    "# Sentencepiece BPE\n",
    "\n",
    "# validation set 10000건 분리\n",
    "X_val_ = X_train_[:10000]   \n",
    "y_val_ = y_train_[:10000]\n",
    "\n",
    "# validation set을 제외한 나머지 15000건\n",
    "partial_X_train_ = X_train_[10000:]  \n",
    "partial_y_train_ = y_train_[10000:]\n",
    "\n",
    "print(X_train_.shape)\n",
    "print(y_train_.shape)\n",
    "print(partial_X_train_.shape)\n",
    "print(partial_y_train_.shape)\n",
    "\n",
    "#LSTM\n",
    "model_ = keras.Sequential()\n",
    "model_.add(Embedding(vocab_size, word_vector_dim, input_shape=(None,)))\n",
    "model_.add(LSTM(word_vector_dim))   # 가장 널리 쓰이는 RNN인 LSTM 레이어\n",
    "model_.add(Dense(10, activation='relu'))\n",
    "model_.add(Dense(1, activation='sigmoid')) \n",
    "model_.summary()\n",
    "\n",
    "model_.compile(optimizer='adam',\n",
    "               loss='binary_crossentropy',\n",
    "               metrics=['accuracy'])\n",
    "              \n",
    "epochs=10  # 몇 epoch를 훈련하면 좋을지 결과를 보면서 바꾸어 봅시다. \n",
    "\n",
    "history_model_ = model_.fit(partial_X_train_, partial_y_train_,\n",
    "                            epochs=epochs,\n",
    "                            batch_size=512,\n",
    "                            validation_data=(X_val_, y_val_),\n",
    "                            verbose=2)\n",
    "\n",
    "results = model_.evaluate(X_test_,  y_test_, verbose=2)\n",
    "print(results)"
   ]
  },
  {
   "cell_type": "markdown",
   "id": "0a3e7e62-0680-497e-8413-5c689245232a",
   "metadata": {},
   "source": [
    "#### KoNLPy에 있는 Mecab, kkma, Okt 등과 비교해 보자."
   ]
  },
  {
   "cell_type": "code",
   "execution_count": 43,
   "id": "b809f9d3-eaa4-4010-ac76-8347d55b5e66",
   "metadata": {},
   "outputs": [
    {
     "data": {
      "text/html": [
       "<div>\n",
       "<style scoped>\n",
       "    .dataframe tbody tr th:only-of-type {\n",
       "        vertical-align: middle;\n",
       "    }\n",
       "\n",
       "    .dataframe tbody tr th {\n",
       "        vertical-align: top;\n",
       "    }\n",
       "\n",
       "    .dataframe thead th {\n",
       "        text-align: right;\n",
       "    }\n",
       "</style>\n",
       "<table border=\"1\" class=\"dataframe\">\n",
       "  <thead>\n",
       "    <tr style=\"text-align: right;\">\n",
       "      <th></th>\n",
       "      <th>id</th>\n",
       "      <th>document</th>\n",
       "      <th>label</th>\n",
       "    </tr>\n",
       "  </thead>\n",
       "  <tbody>\n",
       "    <tr>\n",
       "      <th>0</th>\n",
       "      <td>9976970</td>\n",
       "      <td>아 더빙 진짜 짜증나네요 목소리</td>\n",
       "      <td>0</td>\n",
       "    </tr>\n",
       "    <tr>\n",
       "      <th>1</th>\n",
       "      <td>3819312</td>\n",
       "      <td>흠포스터보고 초딩영화줄오버연기조차 가볍지 않구나</td>\n",
       "      <td>1</td>\n",
       "    </tr>\n",
       "    <tr>\n",
       "      <th>2</th>\n",
       "      <td>10265843</td>\n",
       "      <td>너무재밓었다그래서보는것을추천한다</td>\n",
       "      <td>0</td>\n",
       "    </tr>\n",
       "  </tbody>\n",
       "</table>\n",
       "</div>"
      ],
      "text/plain": [
       "         id                    document  label\n",
       "0   9976970           아 더빙 진짜 짜증나네요 목소리      0\n",
       "1   3819312  흠포스터보고 초딩영화줄오버연기조차 가볍지 않구나      1\n",
       "2  10265843           너무재밓었다그래서보는것을추천한다      0"
      ]
     },
     "execution_count": 43,
     "metadata": {},
     "output_type": "execute_result"
    }
   ],
   "source": [
    "# 기존에 불러왔던 데이터를 동일하게 사용\n",
    "train_data.head(3)"
   ]
  },
  {
   "cell_type": "code",
   "execution_count": 44,
   "id": "98d4b8d0-09f9-4ba3-90b2-f6081d9f6e2c",
   "metadata": {},
   "outputs": [],
   "source": [
    "tokenizer = Mecab()"
   ]
  },
  {
   "cell_type": "code",
   "execution_count": 45,
   "id": "3af04f47-d5f6-4d75-9fbf-74030b039772",
   "metadata": {},
   "outputs": [],
   "source": [
    "# stopwords 추가\n",
    "stopwords = ['의','가','이','은','들','는','좀','잘','걍','과','도','를',\n",
    "             '으로','자','에','와','한','하다','이','있','하','것','들',\n",
    "             '그','되','수','이','보','않','없','나','사람','주','아니',\n",
    "             '등','같','우리','때','년','가','한','지','대하','오','말',\n",
    "             '일','그렇','위하','때문','그것','두','말하','알','그러나',\n",
    "             '받','못하','일','그런','또','문제','더','사회','많','그리고',\n",
    "             '좋','크','따르','중','나오','가지','씨','시키','만들','지금',\n",
    "             '생각하','그러','속','하나','집','살','모르','적','월','데',\n",
    "             '자신','안','어떤','내','경우','명','생각','시간','그녀',\n",
    "             '다시','이런','앞','보이','번','나','다른','어떻','여자','개',\n",
    "             '전','들','사실','이렇','점','싶','말','정도','좀','원','잘','통하',\n",
    "             '소리','놓']\n",
    "\n",
    "stopwords = set(stopwords)"
   ]
  },
  {
   "cell_type": "code",
   "execution_count": 46,
   "id": "1baafc03-fcad-44b6-877e-03965ace0f53",
   "metadata": {},
   "outputs": [],
   "source": [
    "def load_data_macab(train_data, test_data, num_words=10000):\n",
    "    # 학습데이터의 중복 제거   \n",
    "    train_data.drop_duplicates(subset=['document'], inplace=True)\n",
    "    # NaN 결측치 제거\n",
    "    train_data = train_data.dropna(how = 'any') \n",
    "   # 테스트 데이터의 중복 제거 \n",
    "    test_data.drop_duplicates(subset=['document'], inplace=True)\n",
    "   # NaN 결측치 제거\n",
    "    test_data = test_data.dropna(how = 'any') \n",
    "\n",
    "    X_train = []\n",
    "    for sentence in train_data['document']:\n",
    "        temp_X = tokenizer.morphs(sentence) # 토큰화\n",
    "        temp_X = [word for word in temp_X if not word in stopwords] # 불용어 제거\n",
    "        X_train.append(temp_X)\n",
    "\n",
    "    X_test = []\n",
    "    for sentence in test_data['document']:\n",
    "        temp_X = tokenizer.morphs(sentence) # 토큰화\n",
    "        temp_X = [word for word in temp_X if not word in stopwords] # 불용어 제거\n",
    "        X_test.append(temp_X)\n",
    "\n",
    "    words = np.concatenate(X_train).tolist()\n",
    "    counter = Counter(words)\n",
    "    counter = counter.most_common(10000-4)\n",
    "    vocab = ['<PAD>', '<BOS>', '<UNK>', '<UNUSED>'] + [key for key, _ in counter]\n",
    "    word_to_index = {word:index for index, word in enumerate(vocab)}\n",
    "\n",
    "    def wordlist_to_indexlist(wordlist):\n",
    "        return [word_to_index[word] if word in word_to_index else word_to_index['<UNK>'] for word in wordlist]\n",
    "    \n",
    "    X_train = list(map(wordlist_to_indexlist, X_train))\n",
    "    #print(X_train[0])\n",
    "    X_test = list(map(wordlist_to_indexlist, X_test))\n",
    "    \n",
    "    ## X_train, y_train, X_test, y_test, word_to_index 리턴    \n",
    "    return X_train, np.array(list(train_data['label'])), X_test, np.array(list(test_data['label'])), word_to_index"
   ]
  },
  {
   "cell_type": "code",
   "execution_count": 47,
   "id": "298efca3-ac9f-461e-9e61-627f4dcf30fc",
   "metadata": {},
   "outputs": [],
   "source": [
    "X_train__, y_train__, X_test__, y_test__, word_to_index__ = load_data_macab(train_data, test_data)"
   ]
  },
  {
   "cell_type": "code",
   "execution_count": 48,
   "id": "4e806519-09a4-4144-96ea-2a568f8c744b",
   "metadata": {},
   "outputs": [
    {
     "name": "stdout",
     "output_type": "stream",
     "text": [
      "문장길이 평균 :  11.404085225171738\n",
      "문장길이 최대 :  70\n",
      "문장길이 표준편차 :  9.246934819654808\n",
      "pad_sequences maxlen :  29\n",
      "전체 문장의 0.9326281580550911%가 maxlen 설정값 이내에 포함됩니다. \n"
     ]
    }
   ],
   "source": [
    "# 문장 최대 길이 maxlen 찾기\n",
    "\n",
    "total_data_text = list(X_train__) + list(X_test__)\n",
    "# 텍스트데이터 문장길이의 리스트를 생성한 후\n",
    "num_tokens = [len(tokens) for tokens in total_data_text]\n",
    "num_tokens = np.array(num_tokens)\n",
    "# 문장길이의 평균값, 최대값, 표준편차를 계산해 본다. \n",
    "print('문장길이 평균 : ', np.mean(num_tokens))\n",
    "print('문장길이 최대 : ', np.max(num_tokens))\n",
    "print('문장길이 표준편차 : ', np.std(num_tokens))\n",
    "\n",
    "# 예를들어, 최대 길이를 (평균 + 2*표준편차)로 한다면,  \n",
    "max_tokens = np.mean(num_tokens) + 2 * np.std(num_tokens)\n",
    "maxlen = int(max_tokens)\n",
    "print('pad_sequences maxlen : ', maxlen)\n",
    "print('전체 문장의 {}%가 maxlen 설정값 이내에 포함됩니다. '.format(np.sum(num_tokens < max_tokens) / len(num_tokens)))"
   ]
  },
  {
   "cell_type": "code",
   "execution_count": 49,
   "id": "d9365fdc-e49b-4f32-addf-e5b970ded047",
   "metadata": {},
   "outputs": [
    {
     "name": "stdout",
     "output_type": "stream",
     "text": [
      "(143620, 29)\n"
     ]
    }
   ],
   "source": [
    "# Pading 및 maxlen 적용\n",
    "\n",
    "#RNN은 입력데이터가 순차적으로 처리되기 때문에 뒤부분 입력이 패딩값(padding)으로 채워지면 비효율적이다.\n",
    "# padding='pre' 은 패딩할때 앞단에 0을 넣어주는 방식이다.\n",
    "\n",
    "X_train__ = keras.preprocessing.sequence.pad_sequences(X_train__,\n",
    "                                                     value=word_to_index__[\"<PAD>\"],\n",
    "                                                     padding='pre',# 혹은'post'\n",
    "                                                     maxlen=maxlen)\n",
    "\n",
    "X_test__ = keras.preprocessing.sequence.pad_sequences(X_test__,\n",
    "                                                    value=word_to_index__[\"<PAD>\"],\n",
    "                                                    padding='pre', # 혹은 'post'\n",
    "                                                    maxlen=maxlen)\n",
    "print(X_train__.shape)"
   ]
  },
  {
   "cell_type": "code",
   "execution_count": 50,
   "id": "c8fbdda3-3881-40f3-9016-4a4507b3ed0a",
   "metadata": {},
   "outputs": [
    {
     "name": "stdout",
     "output_type": "stream",
     "text": [
      "(143620, 29)\n",
      "(143620,)\n",
      "(133620, 29)\n",
      "(133620,)\n"
     ]
    }
   ],
   "source": [
    "# validation set 10000건 분리\n",
    "X_val__ = X_train__[:10000]   \n",
    "y_val__ = y_train__[:10000]\n",
    "\n",
    "# validation set을 제외한 나머지 15000건\n",
    "partial_X_train__ = X_train__[10000:]  \n",
    "partial_y_train__ = y_train__[10000:]\n",
    "\n",
    "print(X_train__.shape)\n",
    "print(y_train__.shape)\n",
    "print(partial_X_train__.shape)\n",
    "print(partial_y_train__.shape)"
   ]
  },
  {
   "cell_type": "code",
   "execution_count": 51,
   "id": "5b10723a-9fce-4967-927e-af14a97b6751",
   "metadata": {},
   "outputs": [
    {
     "name": "stdout",
     "output_type": "stream",
     "text": [
      "Model: \"sequential_2\"\n",
      "_________________________________________________________________\n",
      " Layer (type)                Output Shape              Param #   \n",
      "=================================================================\n",
      " embedding_2 (Embedding)     (None, None, 150)         1500000   \n",
      "                                                                 \n",
      " lstm_2 (LSTM)               (None, 150)               180600    \n",
      "                                                                 \n",
      " dense_4 (Dense)             (None, 32)                4832      \n",
      "                                                                 \n",
      " dense_5 (Dense)             (None, 1)                 33        \n",
      "                                                                 \n",
      "=================================================================\n",
      "Total params: 1,685,465\n",
      "Trainable params: 1,685,465\n",
      "Non-trainable params: 0\n",
      "_________________________________________________________________\n"
     ]
    }
   ],
   "source": [
    "vocab_size = 10000    # 어휘 사전의 크기입니다(10,000개의 단어)\n",
    "word_vector_dim = 150  # 워드 벡터의 차원수 (변경가능한 하이퍼파라미터)\n",
    "\n",
    "# model 설계\n",
    "model__ = keras.Sequential()\n",
    "model__.add(Embedding(vocab_size, word_vector_dim, input_shape=(None,)))\n",
    "model__.add(LSTM(word_vector_dim))   # 가장 널리 쓰이는 RNN인 LSTM 레이어를 사용하였습니다. 이때 LSTM state 벡터의 차원수는 변경가능\n",
    "model__.add(Dense(32, activation='relu'))\n",
    "model__.add(Dense(1, activation='sigmoid'))  # 최종 출력은 긍정/부정을 나타내는 1dim 입니다.\n",
    "\n",
    "model__.summary()"
   ]
  },
  {
   "cell_type": "code",
   "execution_count": 52,
   "id": "90f94a81-001a-463a-b69e-d763a94b2f16",
   "metadata": {},
   "outputs": [
    {
     "name": "stdout",
     "output_type": "stream",
     "text": [
      "Epoch 1/10\n",
      "261/261 - 4s - loss: 0.4242 - accuracy: 0.8002 - val_loss: 0.3696 - val_accuracy: 0.8316 - 4s/epoch - 15ms/step\n",
      "Epoch 2/10\n",
      "261/261 - 2s - loss: 0.3431 - accuracy: 0.8486 - val_loss: 0.3577 - val_accuracy: 0.8411 - 2s/epoch - 6ms/step\n",
      "Epoch 3/10\n",
      "261/261 - 2s - loss: 0.3136 - accuracy: 0.8611 - val_loss: 0.3563 - val_accuracy: 0.8413 - 2s/epoch - 6ms/step\n",
      "Epoch 4/10\n",
      "261/261 - 2s - loss: 0.2841 - accuracy: 0.8753 - val_loss: 0.3737 - val_accuracy: 0.8361 - 2s/epoch - 6ms/step\n",
      "Epoch 5/10\n",
      "261/261 - 2s - loss: 0.2599 - accuracy: 0.8861 - val_loss: 0.3986 - val_accuracy: 0.8347 - 2s/epoch - 6ms/step\n",
      "Epoch 6/10\n",
      "261/261 - 2s - loss: 0.2376 - accuracy: 0.8965 - val_loss: 0.4272 - val_accuracy: 0.8289 - 2s/epoch - 6ms/step\n",
      "Epoch 7/10\n",
      "261/261 - 2s - loss: 0.2166 - accuracy: 0.9071 - val_loss: 0.4769 - val_accuracy: 0.8283 - 2s/epoch - 6ms/step\n",
      "Epoch 8/10\n",
      "261/261 - 2s - loss: 0.1973 - accuracy: 0.9154 - val_loss: 0.4985 - val_accuracy: 0.8274 - 2s/epoch - 6ms/step\n",
      "Epoch 9/10\n",
      "261/261 - 2s - loss: 0.1792 - accuracy: 0.9236 - val_loss: 0.5794 - val_accuracy: 0.8239 - 2s/epoch - 6ms/step\n",
      "Epoch 10/10\n",
      "261/261 - 2s - loss: 0.1635 - accuracy: 0.9298 - val_loss: 0.6370 - val_accuracy: 0.8225 - 2s/epoch - 6ms/step\n",
      "1513/1513 - 4s - loss: 0.6356 - accuracy: 0.8193 - 4s/epoch - 3ms/step\n",
      "[0.6355765461921692, 0.8192977905273438]\n"
     ]
    }
   ],
   "source": [
    "model__.compile(optimizer='adam',\n",
    "                loss='binary_crossentropy',\n",
    "                metrics=['accuracy'])\n",
    "              \n",
    "epochs=10  # 몇 epoch를 훈련하면 좋을지 결과를 보면서 바꾸어 봅시다. \n",
    "\n",
    "history_model__ = model__.fit(partial_X_train__, partial_y_train__,\n",
    "                              epochs=epochs,\n",
    "                              batch_size=512,\n",
    "                              validation_data=(X_val__, y_val__),\n",
    "                              verbose=2)\n",
    "\n",
    "results = model__.evaluate(X_test__,  y_test__, verbose=2)\n",
    "print(results)"
   ]
  },
  {
   "cell_type": "code",
   "execution_count": 53,
   "id": "fe3a95b0-114b-46e9-b0cb-196e8d3b04f9",
   "metadata": {},
   "outputs": [
    {
     "data": {
      "image/png": "[encoded data removed]",
      "text/plain": [
       "<Figure size 640x480 with 1 Axes>"
      ]
     },
     "metadata": {},
     "output_type": "display_data"
    }
   ],
   "source": [
    "#모델 학습 시각화 \n",
    "fig, loss_ax = plt.subplots()\n",
    "\n",
    "loss_ax.plot(history_model.history['loss'], 'y', label='train loss')\n",
    "loss_ax.plot(history_model.history['val_loss'], 'r', label='val loss')\n",
    "loss_ax.set_xlabel('epoch')\n",
    "loss_ax.set_ylabel('loss')\n",
    "\n",
    "loss_ax.plot(history_model_.history['loss'], 'b', label='train loss')\n",
    "loss_ax.plot(history_model_.history['val_loss'], 'g', label='val loss')\n",
    "loss_ax.set_xlabel('epoch')\n",
    "loss_ax.set_ylabel('loss')\n",
    "\n",
    "loss_ax.plot(history_model__.history['loss'], 'b', label='train loss')\n",
    "loss_ax.plot(history_model__.history['val_loss'], 'g', label='val loss')\n",
    "loss_ax.set_xlabel('epoch')\n",
    "loss_ax.set_ylabel('loss')\n",
    "\n",
    "plt.title('SentencePiece Unigram vs BPE vs Mecab')\n",
    "plt.show()"
   ]
  },
  {
   "cell_type": "markdown",
   "id": "507f61b7-c440-47fe-8048-b8b7b9fb3264",
   "metadata": {},
   "source": [
    "#### SentencePiece 모델의 model_type, vocab_size 등을 변경해 가면서 성능 개선 여부도 확인해 보자."
   ]
  },
  {
   "cell_type": "code",
   "execution_count": 54,
   "id": "2d024f2e-27ac-43e7-bce0-79644cd1f3a5",
   "metadata": {},
   "outputs": [
    {
     "name": "stdout",
     "output_type": "stream",
     "text": [
      "Epoch 1/10\n",
      "261/261 - 4s - loss: 0.1479 - accuracy: 0.9373 - val_loss: 0.7000 - val_accuracy: 0.8193 - 4s/epoch - 15ms/step\n",
      "Epoch 2/10\n",
      "261/261 - 2s - loss: 0.1283 - accuracy: 0.9441 - val_loss: 0.7956 - val_accuracy: 0.8174 - 2s/epoch - 6ms/step\n",
      "Epoch 3/10\n",
      "261/261 - 2s - loss: 0.1184 - accuracy: 0.9484 - val_loss: 0.8504 - val_accuracy: 0.8186 - 2s/epoch - 6ms/step\n",
      "Epoch 4/10\n",
      "261/261 - 2s - loss: 0.1090 - accuracy: 0.9529 - val_loss: 0.9051 - val_accuracy: 0.8137 - 2s/epoch - 6ms/step\n",
      "Epoch 5/10\n",
      "261/261 - 2s - loss: 0.1009 - accuracy: 0.9561 - val_loss: 0.9913 - val_accuracy: 0.8166 - 2s/epoch - 6ms/step\n",
      "Epoch 6/10\n",
      "261/261 - 2s - loss: 0.0933 - accuracy: 0.9591 - val_loss: 1.0603 - val_accuracy: 0.8179 - 2s/epoch - 6ms/step\n",
      "Epoch 7/10\n",
      "261/261 - 2s - loss: 0.0867 - accuracy: 0.9615 - val_loss: 1.1699 - val_accuracy: 0.8181 - 2s/epoch - 6ms/step\n",
      "Epoch 8/10\n",
      "261/261 - 2s - loss: 0.0809 - accuracy: 0.9641 - val_loss: 1.1681 - val_accuracy: 0.8130 - 2s/epoch - 6ms/step\n",
      "Epoch 9/10\n",
      "261/261 - 2s - loss: 0.0740 - accuracy: 0.9671 - val_loss: 1.2638 - val_accuracy: 0.8152 - 2s/epoch - 6ms/step\n",
      "Epoch 10/10\n",
      "261/261 - 2s - loss: 0.0706 - accuracy: 0.9687 - val_loss: 1.3743 - val_accuracy: 0.8107 - 2s/epoch - 6ms/step\n",
      "1513/1513 - 4s - loss: 1.3837 - accuracy: 0.8109 - 4s/epoch - 3ms/step\n",
      "[1.3836644887924194, 0.810866117477417]\n"
     ]
    }
   ],
   "source": [
    "model__.compile(optimizer='adam',\n",
    "                loss='binary_crossentropy',\n",
    "                metrics=['accuracy'])\n",
    "              \n",
    "epochs=10  # 몇 epoch를 훈련하면 좋을지 결과를 보면서 바꾸어 봅시다. \n",
    "\n",
    "history_model__ = model__.fit(partial_X_train__, partial_y_train__,\n",
    "                              epochs=epochs,\n",
    "                              batch_size=512,\n",
    "                              validation_data=(X_val__, y_val__),\n",
    "                              verbose=2)\n",
    "\n",
    "results = model__.evaluate(X_test__,  y_test__, verbose=2)\n",
    "print(results)"
   ]
  },
  {
   "cell_type": "code",
   "execution_count": null,
   "id": "f0c41557-39c0-49a6-8741-ea98e4308399",
   "metadata": {},
   "outputs": [],
   "source": []
  },
  {
   "cell_type": "code",
   "execution_count": null,
   "id": "62dac58c",
   "metadata": {},
   "outputs": [],
   "source": []
  }
 ],
 "metadata": {
  "kernelspec": {
   "display_name": "Python 3 (ipykernel)",
   "language": "python",
   "name": "python3"
  },
  "language_info": {
   "codemirror_mode": {
    "name": "ipython",
    "version": 3
   },
   "file_extension": ".py",
   "mimetype": "text/x-python",
   "name": "python",
   "nbconvert_exporter": "python",
   "pygments_lexer": "ipython3",
   "version": "3.8.10"
  }
 },
 "nbformat": 4,
 "nbformat_minor": 5
}
